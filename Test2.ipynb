{
 "cells": [
  {
   "cell_type": "markdown",
   "id": "66b224c9-1141-43ba-b4f3-e66127cdfc70",
   "metadata": {},
   "source": [
    "#Function"
   ]
  },
  {
   "cell_type": "code",
   "execution_count": 6,
   "id": "363309fa-2a51-47bc-9d48-9c964fb06dc3",
   "metadata": {},
   "outputs": [
    {
     "name": "stdout",
     "output_type": "stream",
     "text": [
      "Square of 4: 16\n"
     ]
    }
   ],
   "source": [
    "def square(num):\n",
    "    return num ** 2\n",
    "\n",
    "print(\"Square of 4:\", square(4)) "
   ]
  },
  {
   "cell_type": "code",
   "execution_count": 7,
   "id": "c175cf84-3af0-46e4-8926-a9d11e73e9a0",
   "metadata": {},
   "outputs": [
    {
     "name": "stdout",
     "output_type": "stream",
     "text": [
      "Larger of 10 and 25: 25\n"
     ]
    }
   ],
   "source": [
    "def larger(a, b):\n",
    "    return a if a > b else b\n",
    "\n",
    "print(\"Larger of 10 and 25:\", larger(10, 25))"
   ]
  },
  {
   "cell_type": "code",
   "execution_count": 8,
   "id": "80fb63b3-b68a-4c4a-ba33-9fde6df29e02",
   "metadata": {},
   "outputs": [
    {
     "name": "stdout",
     "output_type": "stream",
     "text": [
      "Welcome to AIML\n",
      "Welcome to AIML\n",
      "Welcome to AIML\n",
      "Welcome to AIML\n",
      "Welcome to AIML\n"
     ]
    }
   ],
   "source": [
    "def print_welcome():\n",
    "    for _ in range(5):\n",
    "        print(\"Welcome to AIML\")\n",
    "\n",
    "print_welcome()"
   ]
  },
  {
   "cell_type": "code",
   "execution_count": 9,
   "id": "b8175dc9-3824-41bd-848e-5504018a82e5",
   "metadata": {},
   "outputs": [
    {
     "name": "stdout",
     "output_type": "stream",
     "text": [
      "7 is: Odd\n"
     ]
    }
   ],
   "source": [
    "def even_or_odd(num):\n",
    "    return \"Even\" if num % 2 == 0 else \"Odd\"\n",
    "\n",
    "print(\"7 is:\", even_or_odd(7))"
   ]
  },
  {
   "cell_type": "code",
   "execution_count": 10,
   "id": "dba4eff4-a227-4c12-9a55-d3cd12891465",
   "metadata": {},
   "outputs": [
    {
     "name": "stdout",
     "output_type": "stream",
     "text": [
      "Sum of [1, 7, 6, 2, 5]: 21\n"
     ]
    }
   ],
   "source": [
    "def sum_of_list(lst):\n",
    "    return sum(lst)\n",
    "\n",
    "print(\"Sum of [1, 7, 6, 2, 5]:\", sum_of_list([1, 7, 6, 2, 5]))"
   ]
  },
  {
   "cell_type": "code",
   "execution_count": null,
   "id": "c96b07fd-7242-4700-9cb8-eed083aeac99",
   "metadata": {},
   "outputs": [],
   "source": []
  },
  {
   "cell_type": "markdown",
   "id": "7217e658-19ce-4880-8f98-3a0958a7fd1a",
   "metadata": {},
   "source": [
    "#Loop"
   ]
  },
  {
   "cell_type": "code",
   "execution_count": 11,
   "id": "da5a5f3c-6dbf-48f7-837d-91dadd86c6ac",
   "metadata": {},
   "outputs": [
    {
     "name": "stdout",
     "output_type": "stream",
     "text": [
      "1\n",
      "2\n",
      "3\n",
      "4\n",
      "5\n",
      "6\n",
      "7\n",
      "8\n",
      "9\n",
      "10\n"
     ]
    }
   ],
   "source": [
    "for i in range(1, 11):\n",
    "    print(i)"
   ]
  },
  {
   "cell_type": "code",
   "execution_count": 12,
   "id": "cccb31aa-c346-4001-b556-1e86ea028a0c",
   "metadata": {},
   "outputs": [
    {
     "name": "stdout",
     "output_type": "stream",
     "text": [
      "2\n",
      "4\n",
      "6\n",
      "8\n",
      "10\n",
      "12\n",
      "14\n",
      "16\n",
      "18\n",
      "20\n"
     ]
    }
   ],
   "source": [
    "i = 1\n",
    "while i <= 20:\n",
    "    if i % 2 == 0:\n",
    "        print(i)\n",
    "    i += 1"
   ]
  },
  {
   "cell_type": "code",
   "execution_count": 13,
   "id": "d3d2a22a-6024-428a-9fc3-4acd9d4993d2",
   "metadata": {},
   "outputs": [
    {
     "name": "stdout",
     "output_type": "stream",
     "text": [
      "A\n",
      "r\n",
      "t\n",
      "i\n",
      "f\n",
      "i\n",
      "c\n",
      "i\n",
      "a\n",
      "l\n",
      " \n",
      "I\n",
      "n\n",
      "t\n",
      "e\n",
      "l\n",
      "l\n",
      "i\n",
      "g\n",
      "e\n",
      "n\n",
      "c\n",
      "e\n"
     ]
    }
   ],
   "source": [
    "string = \"Artificial Intelligence\"\n",
    "for char in string:\n",
    "    print(char)"
   ]
  },
  {
   "cell_type": "code",
   "execution_count": 14,
   "id": "58e3efab-5672-4b4a-8384-e423be19a0a1",
   "metadata": {},
   "outputs": [
    {
     "name": "stdout",
     "output_type": "stream",
     "text": [
      "5 x 1 = 5\n",
      "5 x 2 = 10\n",
      "5 x 3 = 15\n",
      "5 x 4 = 20\n",
      "5 x 5 = 25\n",
      "5 x 6 = 30\n",
      "5 x 7 = 35\n",
      "5 x 8 = 40\n",
      "5 x 9 = 45\n",
      "5 x 10 = 50\n"
     ]
    }
   ],
   "source": [
    "for i in range(1, 11):\n",
    "    print(f\"5 x {i} = {5 * i}\")"
   ]
  },
  {
   "cell_type": "code",
   "execution_count": 15,
   "id": "3b99dfd8-a5c3-4362-ba42-8de7f603e9c6",
   "metadata": {},
   "outputs": [
    {
     "name": "stdout",
     "output_type": "stream",
     "text": [
      "5\n",
      "12\n",
      "7\n",
      "33\n",
      "8\n"
     ]
    }
   ],
   "source": [
    "numbers = [5, -2, 12, 7, 0, 33, -10, 8]\n",
    "for num in numbers:\n",
    "    if num > 0:\n",
    "        print(num)"
   ]
  },
  {
   "cell_type": "code",
   "execution_count": null,
   "id": "9c769f47-859a-45ca-b1f4-3f4baddfb19a",
   "metadata": {},
   "outputs": [],
   "source": []
  },
  {
   "cell_type": "markdown",
   "id": "123337b7-634c-4909-a0b4-d320d5eca2cc",
   "metadata": {},
   "source": [
    "#Try and Except"
   ]
  },
  {
   "cell_type": "code",
   "execution_count": 16,
   "id": "6235bb1a-d016-45fb-8011-90ed5227eb38",
   "metadata": {},
   "outputs": [
    {
     "name": "stdout",
     "output_type": "stream",
     "text": [
      "5.0\n",
      "Error: Cannot divide by zero.\n"
     ]
    }
   ],
   "source": [
    "def divide(a, b):\n",
    "    try:\n",
    "        return a / b\n",
    "    except ZeroDivisionError:\n",
    "        return \"Error: Cannot divide by zero.\"\n",
    "\n",
    "# Example\n",
    "print(divide(10, 2))  \n",
    "print(divide(10, 0))"
   ]
  },
  {
   "cell_type": "code",
   "execution_count": 19,
   "id": "0f5963ac-e85d-4be5-8ed8-7715e815f57e",
   "metadata": {},
   "outputs": [
    {
     "name": "stdin",
     "output_type": "stream",
     "text": [
      "Enter a number:  w\n"
     ]
    },
    {
     "name": "stdout",
     "output_type": "stream",
     "text": [
      "Error: That's not a valid number.\n"
     ]
    }
   ],
   "source": [
    "try:\n",
    "    num = float(input(\"Enter a number: \"))\n",
    "    print(\"You entered:\", num)\n",
    "except ValueError:\n",
    "    print(\"Error: That's not a valid number.\")"
   ]
  },
  {
   "cell_type": "code",
   "execution_count": 20,
   "id": "86036bdf-e2ad-42d9-ac80-fcdec8344ba1",
   "metadata": {},
   "outputs": [
    {
     "name": "stdout",
     "output_type": "stream",
     "text": [
      "Error: The file was not found.\n"
     ]
    }
   ],
   "source": [
    "try:\n",
    "    with open(\"sample.txt\", \"r\") as file:\n",
    "        content = file.read()\n",
    "        print(content)\n",
    "except FileNotFoundError:\n",
    "    print(\"Error: The file was not found.\")"
   ]
  },
  {
   "cell_type": "code",
   "execution_count": 21,
   "id": "d3682e78-ae94-496b-b9f4-13472c74ff49",
   "metadata": {},
   "outputs": [
    {
     "name": "stdout",
     "output_type": "stream",
     "text": [
      "9\n"
     ]
    }
   ],
   "source": [
    "def add_numbers(a, b):\n",
    "    if not isinstance(a, (int, float)) or not isinstance(b, (int, float)):\n",
    "        raise ValueError(\"Both inputs must be numbers.\")\n",
    "    return a + b\n",
    "\n",
    "\n",
    "print(add_numbers(4, 5))"
   ]
  },
  {
   "cell_type": "code",
   "execution_count": 22,
   "id": "0aa8af64-d8b4-4311-bdf1-c301e16e8c3e",
   "metadata": {},
   "outputs": [
    {
     "name": "stdin",
     "output_type": "stream",
     "text": [
      "Enter an integer:  3\n"
     ]
    },
    {
     "name": "stdout",
     "output_type": "stream",
     "text": [
      "You entered: 3\n"
     ]
    }
   ],
   "source": [
    "try:\n",
    "    value = int(input(\"Enter an integer: \"))\n",
    "    print(\"You entered:\", value)\n",
    "except ValueError:\n",
    "    print(\"Error: Please enter a valid integer.\")"
   ]
  },
  {
   "cell_type": "code",
   "execution_count": null,
   "id": "70711fdd-672c-4bf4-b111-c33c7f311e6d",
   "metadata": {},
   "outputs": [],
   "source": []
  },
  {
   "cell_type": "markdown",
   "id": "f616bcc0-199b-40bb-9fcb-258910514263",
   "metadata": {},
   "source": [
    "#Lambda, Map, Filter"
   ]
  },
  {
   "cell_type": "code",
   "execution_count": 23,
   "id": "9b2c9ae4-eac3-4fd7-983e-4596e1ce6b11",
   "metadata": {},
   "outputs": [
    {
     "name": "stdout",
     "output_type": "stream",
     "text": [
      "15\n"
     ]
    }
   ],
   "source": [
    "add_10 = lambda x: x + 10\n",
    "print(add_10(5))"
   ]
  },
  {
   "cell_type": "code",
   "execution_count": 24,
   "id": "4724c01f-2694-48d1-b771-89806fc4a378",
   "metadata": {},
   "outputs": [
    {
     "name": "stdout",
     "output_type": "stream",
     "text": [
      "[1, 4, 9, 16, 25]\n"
     ]
    }
   ],
   "source": [
    "numbers = [1, 2, 3, 4, 5]\n",
    "squares = list(map(lambda x: x ** 2, numbers))\n",
    "print(squares) "
   ]
  },
  {
   "cell_type": "code",
   "execution_count": 25,
   "id": "00f9d76e-8a5f-4749-8097-0d8c2ef9056a",
   "metadata": {},
   "outputs": [
    {
     "name": "stdout",
     "output_type": "stream",
     "text": [
      "[-2, 12, 0, -10, 8]\n"
     ]
    }
   ],
   "source": [
    "numbers = [5, -2, 12, 7, 0, 33, -10, 8]\n",
    "even_numbers = list(filter(lambda x: x % 2 == 0, numbers))\n",
    "print(even_numbers)"
   ]
  },
  {
   "cell_type": "code",
   "execution_count": 26,
   "id": "709ce0b9-2b08-4131-ba3a-5104d0cb7097",
   "metadata": {},
   "outputs": [
    {
     "name": "stdout",
     "output_type": "stream",
     "text": [
      "['APPLE', 'BANANA', 'KIWI', 'FIG', 'STRAWBERRY', 'GRAPE']\n"
     ]
    }
   ],
   "source": [
    "words = [\"apple\", \"banana\", \"kiwi\", \"fig\", \"strawberry\", \"grape\"]\n",
    "uppercase_words = list(map(lambda word: word.upper(), words))\n",
    "print(uppercase_words)"
   ]
  },
  {
   "cell_type": "code",
   "execution_count": 27,
   "id": "18863120-de50-4e58-aac2-415d3c9f504a",
   "metadata": {},
   "outputs": [
    {
     "name": "stdout",
     "output_type": "stream",
     "text": [
      "[55, 67, 90]\n"
     ]
    }
   ],
   "source": [
    "values = [10, 55, 67, 42, 90, 33]\n",
    "greater_than_50 = list(filter(lambda x: x > 50, values))\n",
    "print(greater_than_50)"
   ]
  },
  {
   "cell_type": "code",
   "execution_count": null,
   "id": "e3f6204f-b405-4719-830b-1f7f29940093",
   "metadata": {},
   "outputs": [],
   "source": []
  },
  {
   "cell_type": "markdown",
   "id": "4705d1dc-e4b4-4741-a9fe-16b99d82bbd2",
   "metadata": {},
   "source": [
    "#Variable Scope"
   ]
  },
  {
   "cell_type": "code",
   "execution_count": 29,
   "id": "d0b19a57-a8d9-4639-b593-f4d9209ffa10",
   "metadata": {},
   "outputs": [
    {
     "name": "stdout",
     "output_type": "stream",
     "text": [
      "Inside function, global x = 10\n",
      "Outside function, global x = 10\n"
     ]
    }
   ],
   "source": [
    "x = 10  \n",
    "\n",
    "def show_global():\n",
    "    print(\"Inside function, global x =\", x)\n",
    "\n",
    "show_global()  \n",
    "print(\"Outside function, global x =\", x)"
   ]
  },
  {
   "cell_type": "code",
   "execution_count": 30,
   "id": "3108a522-091d-4125-b0e9-b696f8892fe0",
   "metadata": {},
   "outputs": [
    {
     "name": "stdout",
     "output_type": "stream",
     "text": [
      "Inside function, local y = 100\n",
      "Outside function, global y = 20\n"
     ]
    }
   ],
   "source": [
    "y = 20 \n",
    "\n",
    "def local_scope():\n",
    "    y = 100  \n",
    "    print(\"Inside function, local y =\", y)\n",
    "\n",
    "local_scope()  \n",
    "print(\"Outside function, global y =\", y)"
   ]
  },
  {
   "cell_type": "code",
   "execution_count": 31,
   "id": "10a57625-c90d-4f5e-a72c-ba952769674b",
   "metadata": {},
   "outputs": [
    {
     "name": "stdout",
     "output_type": "stream",
     "text": [
      "Modified global z inside function = 15\n",
      "Global z after function = 15\n"
     ]
    }
   ],
   "source": [
    "z = 5 \n",
    "\n",
    "def modify_global():\n",
    "    global z\n",
    "    z = z + 10\n",
    "    print(\"Modified global z inside function =\", z)\n",
    "\n",
    "modify_global()  \n",
    "print(\"Global z after function =\", z)"
   ]
  },
  {
   "cell_type": "code",
   "execution_count": 32,
   "id": "2de4443b-3cb9-4e52-ae0f-5f0f2a78c345",
   "metadata": {},
   "outputs": [
    {
     "name": "stdout",
     "output_type": "stream",
     "text": [
      "Inside set_local(): Hello from Local!\n",
      "Inside access_global(): Hello from Global!\n"
     ]
    }
   ],
   "source": [
    "msg = \"Hello from Global!\" \n",
    "\n",
    "def set_local():\n",
    "    msg = \"Hello from Local!\"\n",
    "    print(\"Inside set_local():\", msg)\n",
    "\n",
    "def access_global():\n",
    "    print(\"Inside access_global():\", msg)\n",
    "\n",
    "set_local()       \n",
    "access_global() "
   ]
  },
  {
   "cell_type": "code",
   "execution_count": null,
   "id": "6c33cfc3-010f-487a-be60-fca97a101900",
   "metadata": {},
   "outputs": [],
   "source": []
  }
 ],
 "metadata": {
  "kernelspec": {
   "display_name": "Python 3 (ipykernel)",
   "language": "python",
   "name": "python3"
  },
  "language_info": {
   "codemirror_mode": {
    "name": "ipython",
    "version": 3
   },
   "file_extension": ".py",
   "mimetype": "text/x-python",
   "name": "python",
   "nbconvert_exporter": "python",
   "pygments_lexer": "ipython3",
   "version": "3.11.2"
  }
 },
 "nbformat": 4,
 "nbformat_minor": 5
}
