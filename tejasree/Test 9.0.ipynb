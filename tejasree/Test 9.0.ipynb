{
 "cells": [
  {
   "cell_type": "markdown",
   "id": "69fefb2d",
   "metadata": {},
   "source": [
    "#  Predicting Student Exam Scores Using Machine Learning\n",
    "\n",
    "##  Problem Statement\n",
    "\n",
    "Academic success in Spain’s *Título de Bachiller* system is influenced by various factors such as study habits, parental background, attendance, and support systems. In this project, we aim to build a machine learning model that can predict a student's final **Exam Score**, helping identify students at academic risk for early intervention.\n",
    "\n",
    "---\n",
    "\n",
    "##  Objective\n",
    "\n",
    "To develop regression models that can accurately predict the `Exam_Score` using features such as:\n",
    "- Hours studied per week\n",
    "- Attendance\n",
    "- Tutoring support\n",
    "- Gender\n",
    "- Region (Urban/Rural)\n",
    "- Parent's education level\n",
    "\n",
    "---\n",
    "\n",
    "##  Dataset Overview\n",
    "\n",
    "- **Dataset Name:** SAP-4000\n",
    "- **Total Records:** 4,000 students\n",
    "- **Target Variable:** `Exam_Score` (10.0 – 100.0)\n",
    "\n",
    "###  Features:\n",
    "| Variable          | Type                | Description |\n",
    "|------------------|---------------------|-------------|\n",
    "| Gender           | Categorical (Nominal) | Male, Female |\n",
    "| HoursStudied/Week| Numeric (Continuous) | 0.0 – 16.0 |\n",
    "| Tutoring         | Categorical (Binary) | Yes, No |\n",
    "| Region           | Categorical (Nominal) | Urban, Rural |\n",
    "| Attendance (%)   | Numeric (Continuous) | 50.0 – 100.0 |\n",
    "| ParentEducation  | Categorical (Ordinal) | None, Primary, Secondary, Tertiary |\n",
    "| Exam_Score       | Numeric (Target)    | 10.0 – 100.0 |\n",
    "\n",
    "---\n",
    "\n",
    "##  Step 1: Data Preprocessing\n",
    "\n",
    "- Handle missing values (if any).\n",
    "- Convert categorical data to numerical:\n",
    "  - **Label Encoding** for `ParentEducation` (ordinal).\n",
    "  - **One-Hot Encoding** for `Gender`, `Region`, `Tutoring` (nominal).\n",
    "- Normalize/scale numeric features if needed (optional).\n",
    "\n",
    "---\n",
    "\n",
    "##  Step 2: Feature Selection\n",
    "\n",
    "- **Heatmap:** Visualize correlation between numerical features and `Exam_Score`.\n",
    "- **SelectKBest:** Use `f_regression` to select top relevant features.\n",
    "\n",
    "```python\n",
    "from sklearn.feature_selection import SelectKBest, f_regression\n"
   ]
  },
  {
   "cell_type": "markdown",
   "id": "f717681d",
   "metadata": {},
   "source": [
    "##  Step 3: Model Building\n",
    "\n",
    "We will train the following regression models to predict `Exam_Score`:\n",
    "\n",
    "- Linear Regression\n",
    "\n",
    "- DecisionTreeRegressor\n",
    "\n",
    "---\n",
    "\n",
    "### Evaluation Metrics\n",
    "\n",
    "For each model, evaluate performance using the following metrics:\n",
    "\n",
    "- **R² Score (Train and Test)** — Measures how well the model explains the variance.\n",
    "- **Mean Absolute Error (MAE)** — Average absolute difference between predicted and actual values.\n",
    "- **Root Mean Squared Error (RMSE)** — Penalizes larger errors more.\n",
    "\n"
   ]
  },
  {
   "cell_type": "markdown",
   "id": "cd91a75a",
   "metadata": {},
   "source": [
    "##  Step 4: Cross-Validation\n",
    "\n",
    "To evaluate how well our model generalizes to unseen data, we use **K-Fold Cross-Validation**.\n",
    "\n",
    "### 🔹 What is K-Fold?\n",
    "- The dataset is split into **k subsets (folds)**.\n",
    "- The model is trained on k-1 folds and tested on the remaining fold.\n",
    "- This process is repeated k times, and the results are averaged.\n",
    "\n",
    "We will use **5-Fold Cross-Validation** and evaluate with the **R² score**.\n",
    "\n"
   ]
  },
  {
   "cell_type": "markdown",
   "id": "46570bd6",
   "metadata": {},
   "source": [
    "##  Step 5: Overfitting Check\n",
    "\n",
    "###  What is Overfitting?\n",
    "\n",
    "Overfitting happens when a model learns the training data **too well**, including noise and outliers. As a result, it performs **poorly on new/unseen data**.\n",
    "\n",
    "---\n",
    "\n",
    "###  How to Detect Overfitting?\n",
    "\n",
    "We compare the model's performance on the **training set** vs the **test set** using metrics like:\n",
    "\n",
    "- **R² Score (Train vs Test)**\n",
    "- **MAE / RMSE (Train vs Test)**\n",
    "\n",
    ">  If **Train R² is high** and **Test R² is low**, the model is likely overfitting.\n",
    "\n"
   ]
  },
  {
   "cell_type": "markdown",
   "id": "a0669a8a",
   "metadata": {},
   "source": [
    "##  Step 6: Hyperparameter Tuning\n",
    "\n",
    "\n",
    "---\n",
    "\n",
    "###  Techniques\n",
    "\n",
    "We’ll use:\n",
    "\n",
    "- **GridSearchCV**: Tries all combinations of provided hyperparameters.\n",
    "\n",
    "\n",
    "---\n",
    "\n",
    "\n"
   ]
  },
  {
   "cell_type": "markdown",
   "id": "01f972e8",
   "metadata": {},
   "source": [
    "##  Step 7: Visualization & Interpretation\n",
    "\n",
    "Once the final model is trained and tuned, it's important to **visually interpret** its predictions and behavior. This helps build trust in the model and understand what factors influence student performance.\n",
    "\n",
    "---\n",
    "\n",
    "###  1.  Actual vs Predicted Plot\n"
   ]
  },
  {
   "cell_type": "code",
   "execution_count": 1,
   "id": "105f89e5",
   "metadata": {},
   "outputs": [],
   "source": [
    "import pandas as pd\n",
    "import numpy as np\n",
    "import matplotlib.pyplot as plt\n",
    "%matplotlib inline\n",
    "import seaborn as sns\n",
    "\n",
    "import warnings\n",
    "warnings.filterwarnings('ignore')"
   ]
  },
  {
   "cell_type": "code",
   "execution_count": 2,
   "id": "1a459da3",
   "metadata": {},
   "outputs": [
    {
     "data": {
      "text/html": [
       "<div>\n",
       "<style scoped>\n",
       "    .dataframe tbody tr th:only-of-type {\n",
       "        vertical-align: middle;\n",
       "    }\n",
       "\n",
       "    .dataframe tbody tr th {\n",
       "        vertical-align: top;\n",
       "    }\n",
       "\n",
       "    .dataframe thead th {\n",
       "        text-align: right;\n",
       "    }\n",
       "</style>\n",
       "<table border=\"1\" class=\"dataframe\">\n",
       "  <thead>\n",
       "    <tr style=\"text-align: right;\">\n",
       "      <th></th>\n",
       "      <th>Gender</th>\n",
       "      <th>HoursStudied/Week</th>\n",
       "      <th>Tutoring</th>\n",
       "      <th>Region</th>\n",
       "      <th>Attendance(%)</th>\n",
       "      <th>Parent Education</th>\n",
       "      <th>Exam_Score</th>\n",
       "    </tr>\n",
       "  </thead>\n",
       "  <tbody>\n",
       "    <tr>\n",
       "      <th>0</th>\n",
       "      <td>Male</td>\n",
       "      <td>5.5</td>\n",
       "      <td>No</td>\n",
       "      <td>Urban</td>\n",
       "      <td>72.7</td>\n",
       "      <td>Tertiary</td>\n",
       "      <td>43.5</td>\n",
       "    </tr>\n",
       "    <tr>\n",
       "      <th>1</th>\n",
       "      <td>Female</td>\n",
       "      <td>6.8</td>\n",
       "      <td>No</td>\n",
       "      <td>Urban</td>\n",
       "      <td>62.0</td>\n",
       "      <td>Primary</td>\n",
       "      <td>51.7</td>\n",
       "    </tr>\n",
       "    <tr>\n",
       "      <th>2</th>\n",
       "      <td>Female</td>\n",
       "      <td>9.7</td>\n",
       "      <td>No</td>\n",
       "      <td>Rural</td>\n",
       "      <td>95.0</td>\n",
       "      <td>Secondary</td>\n",
       "      <td>70.1</td>\n",
       "    </tr>\n",
       "    <tr>\n",
       "      <th>3</th>\n",
       "      <td>Male</td>\n",
       "      <td>13.3</td>\n",
       "      <td>Yes</td>\n",
       "      <td>Rural</td>\n",
       "      <td>52.9</td>\n",
       "      <td>NaN</td>\n",
       "      <td>79.5</td>\n",
       "    </tr>\n",
       "    <tr>\n",
       "      <th>4</th>\n",
       "      <td>Female</td>\n",
       "      <td>8.9</td>\n",
       "      <td>No</td>\n",
       "      <td>Urban</td>\n",
       "      <td>50.8</td>\n",
       "      <td>NaN</td>\n",
       "      <td>52.2</td>\n",
       "    </tr>\n",
       "  </tbody>\n",
       "</table>\n",
       "</div>"
      ],
      "text/plain": [
       "   Gender  HoursStudied/Week Tutoring Region  Attendance(%) Parent Education  \\\n",
       "0    Male                5.5       No  Urban           72.7         Tertiary   \n",
       "1  Female                6.8       No  Urban           62.0          Primary   \n",
       "2  Female                9.7       No  Rural           95.0        Secondary   \n",
       "3    Male               13.3      Yes  Rural           52.9              NaN   \n",
       "4  Female                8.9       No  Urban           50.8              NaN   \n",
       "\n",
       "   Exam_Score  \n",
       "0        43.5  \n",
       "1        51.7  \n",
       "2        70.1  \n",
       "3        79.5  \n",
       "4        52.2  "
      ]
     },
     "execution_count": 2,
     "metadata": {},
     "output_type": "execute_result"
    }
   ],
   "source": [
    "data=pd.read_csv(r\"D:\\RRU\\Sem 8\\Meta Scifor\\Test\\Test\\SAP-4000.csv\")\n",
    "data.head()"
   ]
  },
  {
   "cell_type": "markdown",
   "id": "d0bf63a7-7e0a-4e9b-87ca-0d2e31725c4f",
   "metadata": {},
   "source": [
    "## Step 1"
   ]
  },
  {
   "cell_type": "code",
   "execution_count": 3,
   "id": "9c4390d6",
   "metadata": {},
   "outputs": [
    {
     "data": {
      "text/plain": [
       "(4000, 7)"
      ]
     },
     "execution_count": 3,
     "metadata": {},
     "output_type": "execute_result"
    }
   ],
   "source": [
    "data.shape"
   ]
  },
  {
   "cell_type": "code",
   "execution_count": 4,
   "id": "1762026c",
   "metadata": {},
   "outputs": [
    {
     "name": "stdout",
     "output_type": "stream",
     "text": [
      "<class 'pandas.core.frame.DataFrame'>\n",
      "RangeIndex: 4000 entries, 0 to 3999\n",
      "Data columns (total 7 columns):\n",
      " #   Column             Non-Null Count  Dtype  \n",
      "---  ------             --------------  -----  \n",
      " 0   Gender             4000 non-null   object \n",
      " 1   HoursStudied/Week  4000 non-null   float64\n",
      " 2   Tutoring           4000 non-null   object \n",
      " 3   Region             4000 non-null   object \n",
      " 4   Attendance(%)      4000 non-null   float64\n",
      " 5   Parent Education   3578 non-null   object \n",
      " 6   Exam_Score         4000 non-null   float64\n",
      "dtypes: float64(3), object(4)\n",
      "memory usage: 218.9+ KB\n"
     ]
    }
   ],
   "source": [
    "data.info()"
   ]
  },
  {
   "cell_type": "code",
   "execution_count": 5,
   "id": "909b4503",
   "metadata": {},
   "outputs": [
    {
     "data": {
      "text/plain": [
       "Gender                 0\n",
       "HoursStudied/Week      0\n",
       "Tutoring               0\n",
       "Region                 0\n",
       "Attendance(%)          0\n",
       "Parent Education     422\n",
       "Exam_Score             0\n",
       "dtype: int64"
      ]
     },
     "execution_count": 5,
     "metadata": {},
     "output_type": "execute_result"
    }
   ],
   "source": [
    "data.isna().sum()"
   ]
  },
  {
   "cell_type": "code",
   "execution_count": 6,
   "id": "6e94b022",
   "metadata": {},
   "outputs": [
    {
     "data": {
      "text/html": [
       "<div>\n",
       "<style scoped>\n",
       "    .dataframe tbody tr th:only-of-type {\n",
       "        vertical-align: middle;\n",
       "    }\n",
       "\n",
       "    .dataframe tbody tr th {\n",
       "        vertical-align: top;\n",
       "    }\n",
       "\n",
       "    .dataframe thead th {\n",
       "        text-align: right;\n",
       "    }\n",
       "</style>\n",
       "<table border=\"1\" class=\"dataframe\">\n",
       "  <thead>\n",
       "    <tr style=\"text-align: right;\">\n",
       "      <th></th>\n",
       "      <th>HoursStudied/Week</th>\n",
       "      <th>Attendance(%)</th>\n",
       "      <th>Exam_Score</th>\n",
       "    </tr>\n",
       "  </thead>\n",
       "  <tbody>\n",
       "    <tr>\n",
       "      <th>count</th>\n",
       "      <td>4000.000000</td>\n",
       "      <td>4000.000000</td>\n",
       "      <td>4000.000000</td>\n",
       "    </tr>\n",
       "    <tr>\n",
       "      <th>mean</th>\n",
       "      <td>9.861025</td>\n",
       "      <td>75.224150</td>\n",
       "      <td>71.107775</td>\n",
       "    </tr>\n",
       "    <tr>\n",
       "      <th>std</th>\n",
       "      <td>3.713801</td>\n",
       "      <td>14.496906</td>\n",
       "      <td>16.748950</td>\n",
       "    </tr>\n",
       "    <tr>\n",
       "      <th>min</th>\n",
       "      <td>0.000000</td>\n",
       "      <td>50.000000</td>\n",
       "      <td>16.600000</td>\n",
       "    </tr>\n",
       "    <tr>\n",
       "      <th>25%</th>\n",
       "      <td>7.400000</td>\n",
       "      <td>62.600000</td>\n",
       "      <td>59.300000</td>\n",
       "    </tr>\n",
       "    <tr>\n",
       "      <th>50%</th>\n",
       "      <td>9.900000</td>\n",
       "      <td>75.600000</td>\n",
       "      <td>71.550000</td>\n",
       "    </tr>\n",
       "    <tr>\n",
       "      <th>75%</th>\n",
       "      <td>12.600000</td>\n",
       "      <td>87.700000</td>\n",
       "      <td>83.500000</td>\n",
       "    </tr>\n",
       "    <tr>\n",
       "      <th>max</th>\n",
       "      <td>16.000000</td>\n",
       "      <td>100.000000</td>\n",
       "      <td>100.000000</td>\n",
       "    </tr>\n",
       "  </tbody>\n",
       "</table>\n",
       "</div>"
      ],
      "text/plain": [
       "       HoursStudied/Week  Attendance(%)   Exam_Score\n",
       "count        4000.000000    4000.000000  4000.000000\n",
       "mean            9.861025      75.224150    71.107775\n",
       "std             3.713801      14.496906    16.748950\n",
       "min             0.000000      50.000000    16.600000\n",
       "25%             7.400000      62.600000    59.300000\n",
       "50%             9.900000      75.600000    71.550000\n",
       "75%            12.600000      87.700000    83.500000\n",
       "max            16.000000     100.000000   100.000000"
      ]
     },
     "execution_count": 6,
     "metadata": {},
     "output_type": "execute_result"
    }
   ],
   "source": [
    "data.describe()"
   ]
  },
  {
   "cell_type": "code",
   "execution_count": 7,
   "id": "718eec18-5b3c-4af9-80e1-573152eb7d4d",
   "metadata": {},
   "outputs": [],
   "source": [
    "data['Parent Education']=data['Parent Education'].fillna(data['Parent Education'].mode()[0])"
   ]
  },
  {
   "cell_type": "code",
   "execution_count": 8,
   "id": "e5f435d9-8c87-4a86-939e-25b3c52d0841",
   "metadata": {},
   "outputs": [],
   "source": [
    "# Convert categorical data to numerical:\n",
    "#Label Encoding for ParentEducation (ordinal).\n",
    "#One-Hot Encoding for Gender, Region, Tutoring (nominal)."
   ]
  },
  {
   "cell_type": "code",
   "execution_count": 9,
   "id": "70e47950-fe57-4133-94b4-2f1d0c854c33",
   "metadata": {},
   "outputs": [],
   "source": [
    "from sklearn.preprocessing import LabelEncoder"
   ]
  },
  {
   "cell_type": "code",
   "execution_count": 10,
   "id": "93778d50-050b-49cf-b882-c42b9bbc78bc",
   "metadata": {},
   "outputs": [],
   "source": [
    "label_enc=LabelEncoder()"
   ]
  },
  {
   "cell_type": "code",
   "execution_count": 11,
   "id": "c9b34ddb-3a68-4bbb-9de4-8924ec9a8d97",
   "metadata": {},
   "outputs": [],
   "source": [
    "df1=label_enc.fit_transform(data['Parent Education'])"
   ]
  },
  {
   "cell_type": "code",
   "execution_count": 12,
   "id": "765c597c-35fd-4e14-85ea-26698d706d90",
   "metadata": {},
   "outputs": [
    {
     "data": {
      "text/html": [
       "<div>\n",
       "<style scoped>\n",
       "    .dataframe tbody tr th:only-of-type {\n",
       "        vertical-align: middle;\n",
       "    }\n",
       "\n",
       "    .dataframe tbody tr th {\n",
       "        vertical-align: top;\n",
       "    }\n",
       "\n",
       "    .dataframe thead th {\n",
       "        text-align: right;\n",
       "    }\n",
       "</style>\n",
       "<table border=\"1\" class=\"dataframe\">\n",
       "  <thead>\n",
       "    <tr style=\"text-align: right;\">\n",
       "      <th></th>\n",
       "      <th>Gender</th>\n",
       "      <th>HoursStudied/Week</th>\n",
       "      <th>Tutoring</th>\n",
       "      <th>Region</th>\n",
       "      <th>Attendance(%)</th>\n",
       "      <th>Parent Education</th>\n",
       "      <th>Exam_Score</th>\n",
       "    </tr>\n",
       "  </thead>\n",
       "  <tbody>\n",
       "    <tr>\n",
       "      <th>0</th>\n",
       "      <td>Male</td>\n",
       "      <td>5.5</td>\n",
       "      <td>No</td>\n",
       "      <td>Urban</td>\n",
       "      <td>72.7</td>\n",
       "      <td>2</td>\n",
       "      <td>43.5</td>\n",
       "    </tr>\n",
       "    <tr>\n",
       "      <th>1</th>\n",
       "      <td>Female</td>\n",
       "      <td>6.8</td>\n",
       "      <td>No</td>\n",
       "      <td>Urban</td>\n",
       "      <td>62.0</td>\n",
       "      <td>0</td>\n",
       "      <td>51.7</td>\n",
       "    </tr>\n",
       "    <tr>\n",
       "      <th>2</th>\n",
       "      <td>Female</td>\n",
       "      <td>9.7</td>\n",
       "      <td>No</td>\n",
       "      <td>Rural</td>\n",
       "      <td>95.0</td>\n",
       "      <td>1</td>\n",
       "      <td>70.1</td>\n",
       "    </tr>\n",
       "    <tr>\n",
       "      <th>3</th>\n",
       "      <td>Male</td>\n",
       "      <td>13.3</td>\n",
       "      <td>Yes</td>\n",
       "      <td>Rural</td>\n",
       "      <td>52.9</td>\n",
       "      <td>1</td>\n",
       "      <td>79.5</td>\n",
       "    </tr>\n",
       "    <tr>\n",
       "      <th>4</th>\n",
       "      <td>Female</td>\n",
       "      <td>8.9</td>\n",
       "      <td>No</td>\n",
       "      <td>Urban</td>\n",
       "      <td>50.8</td>\n",
       "      <td>1</td>\n",
       "      <td>52.2</td>\n",
       "    </tr>\n",
       "  </tbody>\n",
       "</table>\n",
       "</div>"
      ],
      "text/plain": [
       "   Gender  HoursStudied/Week Tutoring Region  Attendance(%)  Parent Education  \\\n",
       "0    Male                5.5       No  Urban           72.7                 2   \n",
       "1  Female                6.8       No  Urban           62.0                 0   \n",
       "2  Female                9.7       No  Rural           95.0                 1   \n",
       "3    Male               13.3      Yes  Rural           52.9                 1   \n",
       "4  Female                8.9       No  Urban           50.8                 1   \n",
       "\n",
       "   Exam_Score  \n",
       "0        43.5  \n",
       "1        51.7  \n",
       "2        70.1  \n",
       "3        79.5  \n",
       "4        52.2  "
      ]
     },
     "execution_count": 12,
     "metadata": {},
     "output_type": "execute_result"
    }
   ],
   "source": [
    "data['Parent Education']=df1\n",
    "data.head()"
   ]
  },
  {
   "cell_type": "code",
   "execution_count": 13,
   "id": "0a142120-468f-4932-80b5-d8d1c3ab343f",
   "metadata": {},
   "outputs": [],
   "source": [
    "from sklearn.preprocessing import  OneHotEncoder\n",
    "from sklearn.compose import make_column_transformer"
   ]
  },
  {
   "cell_type": "code",
   "execution_count": 14,
   "id": "5ea06cc7-719b-4a39-80d8-5daf29ecd8eb",
   "metadata": {},
   "outputs": [],
   "source": [
    "one_he=OneHotEncoder()"
   ]
  },
  {
   "cell_type": "code",
   "execution_count": 15,
   "id": "75e2f446-0742-45a4-bc64-a4c382e03581",
   "metadata": {},
   "outputs": [],
   "source": [
    "df2=make_column_transformer(\n",
    "    (one_he,['Gender', 'Region', 'Tutoring']),remainder='passthrough')"
   ]
  },
  {
   "cell_type": "code",
   "execution_count": 16,
   "id": "03581e8a-4f75-41d2-8319-ca73cf80f132",
   "metadata": {},
   "outputs": [
    {
     "data": {
      "text/html": [
       "<div>\n",
       "<style scoped>\n",
       "    .dataframe tbody tr th:only-of-type {\n",
       "        vertical-align: middle;\n",
       "    }\n",
       "\n",
       "    .dataframe tbody tr th {\n",
       "        vertical-align: top;\n",
       "    }\n",
       "\n",
       "    .dataframe thead th {\n",
       "        text-align: right;\n",
       "    }\n",
       "</style>\n",
       "<table border=\"1\" class=\"dataframe\">\n",
       "  <thead>\n",
       "    <tr style=\"text-align: right;\">\n",
       "      <th></th>\n",
       "      <th>0</th>\n",
       "      <th>1</th>\n",
       "      <th>2</th>\n",
       "      <th>3</th>\n",
       "      <th>4</th>\n",
       "      <th>5</th>\n",
       "      <th>6</th>\n",
       "      <th>7</th>\n",
       "      <th>8</th>\n",
       "      <th>9</th>\n",
       "    </tr>\n",
       "  </thead>\n",
       "  <tbody>\n",
       "    <tr>\n",
       "      <th>0</th>\n",
       "      <td>0.0</td>\n",
       "      <td>1.0</td>\n",
       "      <td>0.0</td>\n",
       "      <td>1.0</td>\n",
       "      <td>1.0</td>\n",
       "      <td>0.0</td>\n",
       "      <td>5.5</td>\n",
       "      <td>72.7</td>\n",
       "      <td>2.0</td>\n",
       "      <td>43.5</td>\n",
       "    </tr>\n",
       "    <tr>\n",
       "      <th>1</th>\n",
       "      <td>1.0</td>\n",
       "      <td>0.0</td>\n",
       "      <td>0.0</td>\n",
       "      <td>1.0</td>\n",
       "      <td>1.0</td>\n",
       "      <td>0.0</td>\n",
       "      <td>6.8</td>\n",
       "      <td>62.0</td>\n",
       "      <td>0.0</td>\n",
       "      <td>51.7</td>\n",
       "    </tr>\n",
       "    <tr>\n",
       "      <th>2</th>\n",
       "      <td>1.0</td>\n",
       "      <td>0.0</td>\n",
       "      <td>1.0</td>\n",
       "      <td>0.0</td>\n",
       "      <td>1.0</td>\n",
       "      <td>0.0</td>\n",
       "      <td>9.7</td>\n",
       "      <td>95.0</td>\n",
       "      <td>1.0</td>\n",
       "      <td>70.1</td>\n",
       "    </tr>\n",
       "    <tr>\n",
       "      <th>3</th>\n",
       "      <td>0.0</td>\n",
       "      <td>1.0</td>\n",
       "      <td>1.0</td>\n",
       "      <td>0.0</td>\n",
       "      <td>0.0</td>\n",
       "      <td>1.0</td>\n",
       "      <td>13.3</td>\n",
       "      <td>52.9</td>\n",
       "      <td>1.0</td>\n",
       "      <td>79.5</td>\n",
       "    </tr>\n",
       "    <tr>\n",
       "      <th>4</th>\n",
       "      <td>1.0</td>\n",
       "      <td>0.0</td>\n",
       "      <td>0.0</td>\n",
       "      <td>1.0</td>\n",
       "      <td>1.0</td>\n",
       "      <td>0.0</td>\n",
       "      <td>8.9</td>\n",
       "      <td>50.8</td>\n",
       "      <td>1.0</td>\n",
       "      <td>52.2</td>\n",
       "    </tr>\n",
       "    <tr>\n",
       "      <th>...</th>\n",
       "      <td>...</td>\n",
       "      <td>...</td>\n",
       "      <td>...</td>\n",
       "      <td>...</td>\n",
       "      <td>...</td>\n",
       "      <td>...</td>\n",
       "      <td>...</td>\n",
       "      <td>...</td>\n",
       "      <td>...</td>\n",
       "      <td>...</td>\n",
       "    </tr>\n",
       "    <tr>\n",
       "      <th>3995</th>\n",
       "      <td>0.0</td>\n",
       "      <td>1.0</td>\n",
       "      <td>0.0</td>\n",
       "      <td>1.0</td>\n",
       "      <td>0.0</td>\n",
       "      <td>1.0</td>\n",
       "      <td>11.3</td>\n",
       "      <td>79.5</td>\n",
       "      <td>1.0</td>\n",
       "      <td>93.5</td>\n",
       "    </tr>\n",
       "    <tr>\n",
       "      <th>3996</th>\n",
       "      <td>0.0</td>\n",
       "      <td>1.0</td>\n",
       "      <td>0.0</td>\n",
       "      <td>1.0</td>\n",
       "      <td>0.0</td>\n",
       "      <td>1.0</td>\n",
       "      <td>3.7</td>\n",
       "      <td>50.7</td>\n",
       "      <td>2.0</td>\n",
       "      <td>53.8</td>\n",
       "    </tr>\n",
       "    <tr>\n",
       "      <th>3997</th>\n",
       "      <td>1.0</td>\n",
       "      <td>0.0</td>\n",
       "      <td>1.0</td>\n",
       "      <td>0.0</td>\n",
       "      <td>1.0</td>\n",
       "      <td>0.0</td>\n",
       "      <td>0.0</td>\n",
       "      <td>72.7</td>\n",
       "      <td>2.0</td>\n",
       "      <td>25.4</td>\n",
       "    </tr>\n",
       "    <tr>\n",
       "      <th>3998</th>\n",
       "      <td>0.0</td>\n",
       "      <td>1.0</td>\n",
       "      <td>0.0</td>\n",
       "      <td>1.0</td>\n",
       "      <td>1.0</td>\n",
       "      <td>0.0</td>\n",
       "      <td>4.0</td>\n",
       "      <td>62.2</td>\n",
       "      <td>2.0</td>\n",
       "      <td>40.3</td>\n",
       "    </tr>\n",
       "    <tr>\n",
       "      <th>3999</th>\n",
       "      <td>0.0</td>\n",
       "      <td>1.0</td>\n",
       "      <td>1.0</td>\n",
       "      <td>0.0</td>\n",
       "      <td>1.0</td>\n",
       "      <td>0.0</td>\n",
       "      <td>7.8</td>\n",
       "      <td>79.6</td>\n",
       "      <td>0.0</td>\n",
       "      <td>62.0</td>\n",
       "    </tr>\n",
       "  </tbody>\n",
       "</table>\n",
       "<p>4000 rows × 10 columns</p>\n",
       "</div>"
      ],
      "text/plain": [
       "        0    1    2    3    4    5     6     7    8     9\n",
       "0     0.0  1.0  0.0  1.0  1.0  0.0   5.5  72.7  2.0  43.5\n",
       "1     1.0  0.0  0.0  1.0  1.0  0.0   6.8  62.0  0.0  51.7\n",
       "2     1.0  0.0  1.0  0.0  1.0  0.0   9.7  95.0  1.0  70.1\n",
       "3     0.0  1.0  1.0  0.0  0.0  1.0  13.3  52.9  1.0  79.5\n",
       "4     1.0  0.0  0.0  1.0  1.0  0.0   8.9  50.8  1.0  52.2\n",
       "...   ...  ...  ...  ...  ...  ...   ...   ...  ...   ...\n",
       "3995  0.0  1.0  0.0  1.0  0.0  1.0  11.3  79.5  1.0  93.5\n",
       "3996  0.0  1.0  0.0  1.0  0.0  1.0   3.7  50.7  2.0  53.8\n",
       "3997  1.0  0.0  1.0  0.0  1.0  0.0   0.0  72.7  2.0  25.4\n",
       "3998  0.0  1.0  0.0  1.0  1.0  0.0   4.0  62.2  2.0  40.3\n",
       "3999  0.0  1.0  1.0  0.0  1.0  0.0   7.8  79.6  0.0  62.0\n",
       "\n",
       "[4000 rows x 10 columns]"
      ]
     },
     "execution_count": 16,
     "metadata": {},
     "output_type": "execute_result"
    }
   ],
   "source": [
    "encoded_data=pd.DataFrame(df2.fit_transform(data))\n",
    "encoded_data"
   ]
  },
  {
   "cell_type": "code",
   "execution_count": 17,
   "id": "db712984-d54c-4031-9e60-bacdb006fd73",
   "metadata": {},
   "outputs": [
    {
     "data": {
      "text/html": [
       "<div>\n",
       "<style scoped>\n",
       "    .dataframe tbody tr th:only-of-type {\n",
       "        vertical-align: middle;\n",
       "    }\n",
       "\n",
       "    .dataframe tbody tr th {\n",
       "        vertical-align: top;\n",
       "    }\n",
       "\n",
       "    .dataframe thead th {\n",
       "        text-align: right;\n",
       "    }\n",
       "</style>\n",
       "<table border=\"1\" class=\"dataframe\">\n",
       "  <thead>\n",
       "    <tr style=\"text-align: right;\">\n",
       "      <th></th>\n",
       "      <th>GenderMale</th>\n",
       "      <th>GenderFemale</th>\n",
       "      <th>Rural_Region</th>\n",
       "      <th>Urban_Region</th>\n",
       "      <th>No_Tutoring</th>\n",
       "      <th>Tutoring</th>\n",
       "      <th>HoursStudied</th>\n",
       "      <th>Attendance_Percentage</th>\n",
       "      <th>ParentEducation</th>\n",
       "      <th>Exam_Score</th>\n",
       "    </tr>\n",
       "  </thead>\n",
       "  <tbody>\n",
       "    <tr>\n",
       "      <th>0</th>\n",
       "      <td>0.0</td>\n",
       "      <td>1.0</td>\n",
       "      <td>0.0</td>\n",
       "      <td>1.0</td>\n",
       "      <td>1.0</td>\n",
       "      <td>0.0</td>\n",
       "      <td>5.5</td>\n",
       "      <td>72.7</td>\n",
       "      <td>2.0</td>\n",
       "      <td>43.5</td>\n",
       "    </tr>\n",
       "    <tr>\n",
       "      <th>1</th>\n",
       "      <td>1.0</td>\n",
       "      <td>0.0</td>\n",
       "      <td>0.0</td>\n",
       "      <td>1.0</td>\n",
       "      <td>1.0</td>\n",
       "      <td>0.0</td>\n",
       "      <td>6.8</td>\n",
       "      <td>62.0</td>\n",
       "      <td>0.0</td>\n",
       "      <td>51.7</td>\n",
       "    </tr>\n",
       "    <tr>\n",
       "      <th>2</th>\n",
       "      <td>1.0</td>\n",
       "      <td>0.0</td>\n",
       "      <td>1.0</td>\n",
       "      <td>0.0</td>\n",
       "      <td>1.0</td>\n",
       "      <td>0.0</td>\n",
       "      <td>9.7</td>\n",
       "      <td>95.0</td>\n",
       "      <td>1.0</td>\n",
       "      <td>70.1</td>\n",
       "    </tr>\n",
       "    <tr>\n",
       "      <th>3</th>\n",
       "      <td>0.0</td>\n",
       "      <td>1.0</td>\n",
       "      <td>1.0</td>\n",
       "      <td>0.0</td>\n",
       "      <td>0.0</td>\n",
       "      <td>1.0</td>\n",
       "      <td>13.3</td>\n",
       "      <td>52.9</td>\n",
       "      <td>1.0</td>\n",
       "      <td>79.5</td>\n",
       "    </tr>\n",
       "    <tr>\n",
       "      <th>4</th>\n",
       "      <td>1.0</td>\n",
       "      <td>0.0</td>\n",
       "      <td>0.0</td>\n",
       "      <td>1.0</td>\n",
       "      <td>1.0</td>\n",
       "      <td>0.0</td>\n",
       "      <td>8.9</td>\n",
       "      <td>50.8</td>\n",
       "      <td>1.0</td>\n",
       "      <td>52.2</td>\n",
       "    </tr>\n",
       "    <tr>\n",
       "      <th>...</th>\n",
       "      <td>...</td>\n",
       "      <td>...</td>\n",
       "      <td>...</td>\n",
       "      <td>...</td>\n",
       "      <td>...</td>\n",
       "      <td>...</td>\n",
       "      <td>...</td>\n",
       "      <td>...</td>\n",
       "      <td>...</td>\n",
       "      <td>...</td>\n",
       "    </tr>\n",
       "    <tr>\n",
       "      <th>3995</th>\n",
       "      <td>0.0</td>\n",
       "      <td>1.0</td>\n",
       "      <td>0.0</td>\n",
       "      <td>1.0</td>\n",
       "      <td>0.0</td>\n",
       "      <td>1.0</td>\n",
       "      <td>11.3</td>\n",
       "      <td>79.5</td>\n",
       "      <td>1.0</td>\n",
       "      <td>93.5</td>\n",
       "    </tr>\n",
       "    <tr>\n",
       "      <th>3996</th>\n",
       "      <td>0.0</td>\n",
       "      <td>1.0</td>\n",
       "      <td>0.0</td>\n",
       "      <td>1.0</td>\n",
       "      <td>0.0</td>\n",
       "      <td>1.0</td>\n",
       "      <td>3.7</td>\n",
       "      <td>50.7</td>\n",
       "      <td>2.0</td>\n",
       "      <td>53.8</td>\n",
       "    </tr>\n",
       "    <tr>\n",
       "      <th>3997</th>\n",
       "      <td>1.0</td>\n",
       "      <td>0.0</td>\n",
       "      <td>1.0</td>\n",
       "      <td>0.0</td>\n",
       "      <td>1.0</td>\n",
       "      <td>0.0</td>\n",
       "      <td>0.0</td>\n",
       "      <td>72.7</td>\n",
       "      <td>2.0</td>\n",
       "      <td>25.4</td>\n",
       "    </tr>\n",
       "    <tr>\n",
       "      <th>3998</th>\n",
       "      <td>0.0</td>\n",
       "      <td>1.0</td>\n",
       "      <td>0.0</td>\n",
       "      <td>1.0</td>\n",
       "      <td>1.0</td>\n",
       "      <td>0.0</td>\n",
       "      <td>4.0</td>\n",
       "      <td>62.2</td>\n",
       "      <td>2.0</td>\n",
       "      <td>40.3</td>\n",
       "    </tr>\n",
       "    <tr>\n",
       "      <th>3999</th>\n",
       "      <td>0.0</td>\n",
       "      <td>1.0</td>\n",
       "      <td>1.0</td>\n",
       "      <td>0.0</td>\n",
       "      <td>1.0</td>\n",
       "      <td>0.0</td>\n",
       "      <td>7.8</td>\n",
       "      <td>79.6</td>\n",
       "      <td>0.0</td>\n",
       "      <td>62.0</td>\n",
       "    </tr>\n",
       "  </tbody>\n",
       "</table>\n",
       "<p>4000 rows × 10 columns</p>\n",
       "</div>"
      ],
      "text/plain": [
       "      GenderMale  GenderFemale  Rural_Region  Urban_Region  No_Tutoring  \\\n",
       "0            0.0           1.0           0.0           1.0          1.0   \n",
       "1            1.0           0.0           0.0           1.0          1.0   \n",
       "2            1.0           0.0           1.0           0.0          1.0   \n",
       "3            0.0           1.0           1.0           0.0          0.0   \n",
       "4            1.0           0.0           0.0           1.0          1.0   \n",
       "...          ...           ...           ...           ...          ...   \n",
       "3995         0.0           1.0           0.0           1.0          0.0   \n",
       "3996         0.0           1.0           0.0           1.0          0.0   \n",
       "3997         1.0           0.0           1.0           0.0          1.0   \n",
       "3998         0.0           1.0           0.0           1.0          1.0   \n",
       "3999         0.0           1.0           1.0           0.0          1.0   \n",
       "\n",
       "      Tutoring  HoursStudied  Attendance_Percentage  ParentEducation  \\\n",
       "0          0.0           5.5                   72.7              2.0   \n",
       "1          0.0           6.8                   62.0              0.0   \n",
       "2          0.0           9.7                   95.0              1.0   \n",
       "3          1.0          13.3                   52.9              1.0   \n",
       "4          0.0           8.9                   50.8              1.0   \n",
       "...        ...           ...                    ...              ...   \n",
       "3995       1.0          11.3                   79.5              1.0   \n",
       "3996       1.0           3.7                   50.7              2.0   \n",
       "3997       0.0           0.0                   72.7              2.0   \n",
       "3998       0.0           4.0                   62.2              2.0   \n",
       "3999       0.0           7.8                   79.6              0.0   \n",
       "\n",
       "      Exam_Score  \n",
       "0           43.5  \n",
       "1           51.7  \n",
       "2           70.1  \n",
       "3           79.5  \n",
       "4           52.2  \n",
       "...          ...  \n",
       "3995        93.5  \n",
       "3996        53.8  \n",
       "3997        25.4  \n",
       "3998        40.3  \n",
       "3999        62.0  \n",
       "\n",
       "[4000 rows x 10 columns]"
      ]
     },
     "execution_count": 17,
     "metadata": {},
     "output_type": "execute_result"
    }
   ],
   "source": [
    "final_data=pd.DataFrame(df2.fit_transform(data),columns=['GenderMale','GenderFemale','Rural_Region','Urban_Region','No_Tutoring','Tutoring','HoursStudied',\n",
    "                                                           'Attendance_Percentage','ParentEducation','Exam_Score'])\n",
    "final_data"
   ]
  },
  {
   "cell_type": "markdown",
   "id": "36be0446-0538-4e4c-af9e-8f0a9baea698",
   "metadata": {},
   "source": [
    "## Step 2"
   ]
  },
  {
   "cell_type": "code",
   "execution_count": 19,
   "id": "a6bb1a6f-0885-4b00-8cd0-77977858db67",
   "metadata": {},
   "outputs": [],
   "source": [
    "data_correl=final_data.corr().abs()"
   ]
  },
  {
   "cell_type": "code",
   "execution_count": 20,
   "id": "b1d6d99c-b14b-4759-8e38-d8c6cd63ec3c",
   "metadata": {},
   "outputs": [
    {
     "data": {
      "image/png": "[encoded data removed]",
      "text/plain": [
       "<Figure size 1800x1400 with 2 Axes>"
      ]
     },
     "metadata": {},
     "output_type": "display_data"
    }
   ],
   "source": [
    "plt.figure(figsize=(18,14))\n",
    "sns.heatmap(data_correl,annot=True,annot_kws={'size':10})\n",
    "plt.show()"
   ]
  },
  {
   "cell_type": "code",
   "execution_count": 21,
   "id": "d22f2b61-afae-4b43-b644-0356b2e8768b",
   "metadata": {},
   "outputs": [],
   "source": [
    "from sklearn.feature_selection import SelectKBest, f_regression"
   ]
  },
  {
   "cell_type": "code",
   "execution_count": 22,
   "id": "78a6422d-d12f-4000-b959-75492e22c1e5",
   "metadata": {},
   "outputs": [],
   "source": [
    "x = final_data.drop(columns=['Exam_Score'])  # Features\n",
    "y = final_data['Exam_Score']    "
   ]
  },
  {
   "cell_type": "code",
   "execution_count": 23,
   "id": "4749c2cc-252a-4989-b58d-ed85cc568aad",
   "metadata": {},
   "outputs": [],
   "source": [
    "selector = SelectKBest(score_func=f_regression, k=4)  # assigned k =4\n",
    "x_new = selector.fit_transform(x, y)"
   ]
  },
  {
   "cell_type": "code",
   "execution_count": 24,
   "id": "a7721c72-43ad-4bd4-a3e2-3b7ec6574bce",
   "metadata": {},
   "outputs": [
    {
     "data": {
      "text/plain": [
       "Index(['No_Tutoring', 'Tutoring', 'HoursStudied', 'Attendance_Percentage'], dtype='object')"
      ]
     },
     "execution_count": 24,
     "metadata": {},
     "output_type": "execute_result"
    }
   ],
   "source": [
    "selected_f = selector.get_support()\n",
    "selected_f = x.columns[selected_f]\n",
    "selected_f"
   ]
  },
  {
   "cell_type": "code",
   "execution_count": 25,
   "id": "99942b5c-57c1-4278-a47c-3acaef0b1e00",
   "metadata": {},
   "outputs": [],
   "source": [
    "x = final_data[selected_f]"
   ]
  },
  {
   "cell_type": "code",
   "execution_count": 26,
   "id": "9a50d339-9769-4d20-b7ea-1a55dd5433cf",
   "metadata": {},
   "outputs": [],
   "source": [
    "df_x = final_data.drop(columns=['Exam_Score', 'GenderMale','GenderFemale','Rural_Region','Urban_Region','ParentEducation',])  # Features "
   ]
  },
  {
   "cell_type": "code",
   "execution_count": 27,
   "id": "2a5e1f9e-ae55-4abe-8041-4b2d31aea0c1",
   "metadata": {},
   "outputs": [
    {
     "data": {
      "image/png": "[encoded data removed]",
      "text/plain": [
       "<Figure size 1000x1000 with 4 Axes>"
      ]
     },
     "metadata": {},
     "output_type": "display_data"
    }
   ],
   "source": [
    "plt.figure(figsize=(10, 10),facecolor='red')\n",
    "plotnumber=1\n",
    "for column in df_x:\n",
    "    if plotnumber<=9:\n",
    "        ax=plt.subplot(2,2,plotnumber)\n",
    "        sns.distplot(df_x[column])\n",
    "        plt.xlabel(column,fontsize=20)\n",
    "    plotnumber +=1\n",
    "plt.show()"
   ]
  },
  {
   "cell_type": "markdown",
   "id": "c6e8bb45-3354-494c-a836-34979db216de",
   "metadata": {},
   "source": [
    "## Step 3"
   ]
  },
  {
   "cell_type": "code",
   "execution_count": 29,
   "id": "6ac49934-9c02-41b8-98d6-09d222d000ea",
   "metadata": {},
   "outputs": [],
   "source": [
    "import pandas as pd\n",
    "from sklearn.model_selection import train_test_split\n",
    "from sklearn.linear_model import LinearRegression\n",
    "from sklearn.metrics import mean_absolute_error, mean_squared_error, r2_score"
   ]
  },
  {
   "cell_type": "code",
   "execution_count": 30,
   "id": "6fe533c7-e774-4793-acaf-eb4af5de0397",
   "metadata": {},
   "outputs": [],
   "source": [
    "x_train, x_test, y_train, y_test = train_test_split(x, y, test_size=0.2, random_state=42)"
   ]
  },
  {
   "cell_type": "code",
   "execution_count": 31,
   "id": "cf897ef3-a70c-4f05-b1fc-d4557bb6b64c",
   "metadata": {},
   "outputs": [
    {
     "data": {
      "text/html": [
       "<style>#sk-container-id-1 {color: black;}#sk-container-id-1 pre{padding: 0;}#sk-container-id-1 div.sk-toggleable {background-color: white;}#sk-container-id-1 label.sk-toggleable__label {cursor: pointer;display: block;width: 100%;margin-bottom: 0;padding: 0.3em;box-sizing: border-box;text-align: center;}#sk-container-id-1 label.sk-toggleable__label-arrow:before {content: \"▸\";float: left;margin-right: 0.25em;color: #696969;}#sk-container-id-1 label.sk-toggleable__label-arrow:hover:before {color: black;}#sk-container-id-1 div.sk-estimator:hover label.sk-toggleable__label-arrow:before {color: black;}#sk-container-id-1 div.sk-toggleable__content {max-height: 0;max-width: 0;overflow: hidden;text-align: left;background-color: #f0f8ff;}#sk-container-id-1 div.sk-toggleable__content pre {margin: 0.2em;color: black;border-radius: 0.25em;background-color: #f0f8ff;}#sk-container-id-1 input.sk-toggleable__control:checked~div.sk-toggleable__content {max-height: 200px;max-width: 100%;overflow: auto;}#sk-container-id-1 input.sk-toggleable__control:checked~label.sk-toggleable__label-arrow:before {content: \"▾\";}#sk-container-id-1 div.sk-estimator input.sk-toggleable__control:checked~label.sk-toggleable__label {background-color: #d4ebff;}#sk-container-id-1 div.sk-label input.sk-toggleable__control:checked~label.sk-toggleable__label {background-color: #d4ebff;}#sk-container-id-1 input.sk-hidden--visually {border: 0;clip: rect(1px 1px 1px 1px);clip: rect(1px, 1px, 1px, 1px);height: 1px;margin: -1px;overflow: hidden;padding: 0;position: absolute;width: 1px;}#sk-container-id-1 div.sk-estimator {font-family: monospace;background-color: #f0f8ff;border: 1px dotted black;border-radius: 0.25em;box-sizing: border-box;margin-bottom: 0.5em;}#sk-container-id-1 div.sk-estimator:hover {background-color: #d4ebff;}#sk-container-id-1 div.sk-parallel-item::after {content: \"\";width: 100%;border-bottom: 1px solid gray;flex-grow: 1;}#sk-container-id-1 div.sk-label:hover label.sk-toggleable__label {background-color: #d4ebff;}#sk-container-id-1 div.sk-serial::before {content: \"\";position: absolute;border-left: 1px solid gray;box-sizing: border-box;top: 0;bottom: 0;left: 50%;z-index: 0;}#sk-container-id-1 div.sk-serial {display: flex;flex-direction: column;align-items: center;background-color: white;padding-right: 0.2em;padding-left: 0.2em;position: relative;}#sk-container-id-1 div.sk-item {position: relative;z-index: 1;}#sk-container-id-1 div.sk-parallel {display: flex;align-items: stretch;justify-content: center;background-color: white;position: relative;}#sk-container-id-1 div.sk-item::before, #sk-container-id-1 div.sk-parallel-item::before {content: \"\";position: absolute;border-left: 1px solid gray;box-sizing: border-box;top: 0;bottom: 0;left: 50%;z-index: -1;}#sk-container-id-1 div.sk-parallel-item {display: flex;flex-direction: column;z-index: 1;position: relative;background-color: white;}#sk-container-id-1 div.sk-parallel-item:first-child::after {align-self: flex-end;width: 50%;}#sk-container-id-1 div.sk-parallel-item:last-child::after {align-self: flex-start;width: 50%;}#sk-container-id-1 div.sk-parallel-item:only-child::after {width: 0;}#sk-container-id-1 div.sk-dashed-wrapped {border: 1px dashed gray;margin: 0 0.4em 0.5em 0.4em;box-sizing: border-box;padding-bottom: 0.4em;background-color: white;}#sk-container-id-1 div.sk-label label {font-family: monospace;font-weight: bold;display: inline-block;line-height: 1.2em;}#sk-container-id-1 div.sk-label-container {text-align: center;}#sk-container-id-1 div.sk-container {/* jupyter's `normalize.less` sets `[hidden] { display: none; }` but bootstrap.min.css set `[hidden] { display: none !important; }` so we also need the `!important` here to be able to override the default hidden behavior on the sphinx rendered scikit-learn.org. See: https://github.com/scikit-learn/scikit-learn/issues/21755 */display: inline-block !important;position: relative;}#sk-container-id-1 div.sk-text-repr-fallback {display: none;}</style><div id=\"sk-container-id-1\" class=\"sk-top-container\"><div class=\"sk-text-repr-fallback\"><pre>LinearRegression()</pre><b>In a Jupyter environment, please rerun this cell to show the HTML representation or trust the notebook. <br />On GitHub, the HTML representation is unable to render, please try loading this page with nbviewer.org.</b></div><div class=\"sk-container\" hidden><div class=\"sk-item\"><div class=\"sk-estimator sk-toggleable\"><input class=\"sk-toggleable__control sk-hidden--visually\" id=\"sk-estimator-id-1\" type=\"checkbox\" checked><label for=\"sk-estimator-id-1\" class=\"sk-toggleable__label sk-toggleable__label-arrow\">LinearRegression</label><div class=\"sk-toggleable__content\"><pre>LinearRegression()</pre></div></div></div></div></div>"
      ],
      "text/plain": [
       "LinearRegression()"
      ]
     },
     "execution_count": 31,
     "metadata": {},
     "output_type": "execute_result"
    }
   ],
   "source": [
    "model = LinearRegression()\n",
    "model.fit(x_train, y_train)"
   ]
  },
  {
   "cell_type": "code",
   "execution_count": 32,
   "id": "3781f12d-140f-4305-9ec3-50f806c881fc",
   "metadata": {},
   "outputs": [],
   "source": [
    "y_pred = model.predict(x_test)"
   ]
  },
  {
   "cell_type": "code",
   "execution_count": 33,
   "id": "86a941bb-2445-491b-af95-c5fb4cdae668",
   "metadata": {},
   "outputs": [
    {
     "data": {
      "text/plain": [
       "array([ 70.50195312,  60.32519531,  93.0703125 ,  90.6640625 ,\n",
       "        65.91894531,  64.47460938,  84.41601562,  72.11816406,\n",
       "        52.68066406,  75.35546875,  57.04492188,  69.96386719,\n",
       "        73.51464844,  56.74511719,  57.65527344,  73.94433594,\n",
       "        34.47851562,  74.11621094,  56.02441406,  83.14941406,\n",
       "        86.80273438, 101.20800781,  80.51757812,  46.82128906,\n",
       "        71.21582031,  57.82714844,  68.49316406,  84.89257812,\n",
       "        79.47460938,  69.13769531,  77.09765625,  92.27734375,\n",
       "        57.07714844,  63.74121094, 100.88964844,  91.40136719,\n",
       "        88.1796875 ,  72.96679688,  42.15234375,  75.55566406,\n",
       "        52.41894531,  87.39257812,  60.59863281,  65.10058594,\n",
       "        70.09277344,  81.73632812,  82.86914062,  60.86523438,\n",
       "        84.95507812,  69.31054688,  64.90234375,  85.73242188,\n",
       "        71.95800781,  68.62402344,  54.2109375 ,  50.76660156,\n",
       "        80.03125   ,  68.19824219,  80.25585938,  76.11328125,\n",
       "        79.32421875,  68.03613281,  82.93847656,  58.63085938,\n",
       "        58.39550781,  39.19140625,  77.01953125,  80.94335938,\n",
       "        69.17382812, 101.80371094,  60.41308594,  70.70019531,\n",
       "        66.04394531,  83.03515625,  95.82714844,  64.98144531,\n",
       "        89.15917969,  60.41699219,  71.26660156,  98.13671875,\n",
       "        99.50390625,  85.15527344,  78.43164062,  46.55957031,\n",
       "        70.46386719,  60.98339844,  57.4296875 ,  81.72851562,\n",
       "        76.02050781,  63.01855469,  73.45703125,  66.66503906,\n",
       "        70.35644531,  41.24609375,  82.83886719,  81.359375  ,\n",
       "        61.97167969,  72.046875  ,  68.91503906,  89.85644531,\n",
       "        40.30566406,  89.55957031,  43.74902344,  89.98535156,\n",
       "        50.6015625 ,  50.85742188,  67.88085938,  95.27050781,\n",
       "        73.79492188,  75.19628906,  83.78027344,  49.62011719,\n",
       "        66.83886719,  65.35644531,  60.03710938,  50.11523438,\n",
       "        48.81054688,  55.29492188,  75.42675781,  58.87011719,\n",
       "        78.6796875 , 101.26171875,  71.06835938,  80.68652344,\n",
       "        56.14746094,  90.21289062,  82.38085938,  68.51855469,\n",
       "        83.03808594,  71.72070312,  59.58789062,  70.90527344,\n",
       "        89.78222656,  54.86523438,  74.81445312,  51.0859375 ,\n",
       "        56.06347656,  95.6875    ,  35.90332031,  74.48046875,\n",
       "        76.73046875,  54.27148438,  75.76367188,  78.71777344,\n",
       "        63.15332031,  87.13671875,  59.1875    ,  80.48339844,\n",
       "        87.59082031,  75.07910156,  42.07324219,  74.03027344,\n",
       "        57.47558594,  83.81152344,  67.97070312,  72.43652344,\n",
       "       101.94726562,  46.70703125,  41.68945312,  51.85449219,\n",
       "        74.17773438,  78.14257812,  90.3828125 ,  81.44921875,\n",
       "        81.25195312,  85.85058594,  84.32714844,  64.7578125 ,\n",
       "        74.3515625 ,  58.99121094,  90.82421875,  46.99023438,\n",
       "        86.53417969,  38.74609375,  57.89257812,  56.06054688,\n",
       "        97.42285156,  70.89941406,  76.64648438,  83.41796875,\n",
       "        61.86425781,  43.40722656,  35.66796875,  68.8515625 ,\n",
       "        68.54589844,  63.36425781,  81.02050781,  84.97949219,\n",
       "        76.75195312,  40.015625  ,  63.39941406,  66.47167969,\n",
       "        76.6484375 ,  99.69824219,  45.37207031,  64.22460938,\n",
       "        57.9140625 ,  65.9375    ,  75.11035156,  73.74511719,\n",
       "        99.67480469,  98.33203125,  73.03613281,  38.02636719,\n",
       "        50.88867188,  71.46679688,  42.95605469,  79.9453125 ,\n",
       "        85.28710938,  69.60839844,  45.71386719,  52.11132812,\n",
       "        49.01269531,  37.55078125,  52.78613281,  61.83496094,\n",
       "        81.24023438,  79.71679688,  80.82617188,  50.22460938,\n",
       "        57.7421875 ,  90.35253906,  83.47851562,  63.47753906,\n",
       "        99.4140625 ,  52.43457031,  69.16796875,  50.05761719,\n",
       "        64.98925781,  82.16601562,  83.62109375,  49.18261719,\n",
       "        70.01855469,  80.05859375,  82.57421875,  33.5078125 ,\n",
       "        23.02148438,  71.33496094,  94.38671875,  71.2890625 ,\n",
       "        76.23339844,  79.68164062,  68.80273438,  85.52050781,\n",
       "        65.06640625,  78.11132812,  87.82421875,  42.3828125 ,\n",
       "        67.26171875,  69.68359375,  89.7578125 ,  63.078125  ,\n",
       "        85.40722656,  64.64648438, 101.14453125,  57.57128906,\n",
       "        76.02636719,  73.48730469,  60.35253906,  85.58105469,\n",
       "        78.72949219,  74.8828125 ,  80.83300781,  65.30664062,\n",
       "        55.88671875,  75.70703125,  53.30566406,  80.87402344,\n",
       "        66.58691406,  47.75195312,  71.70605469,  79.16601562,\n",
       "        97.02246094, 101.77539062,  68.31445312,  88.19140625,\n",
       "        50.51171875,  58.44921875,  83.62109375,  74.73339844,\n",
       "        69.11230469,  97.33886719,  89.09082031,  68.54003906,\n",
       "        73.78710938,  90.57421875,  60.671875  ,  89.47363281,\n",
       "        85.73242188,  92.19726562,  86.25292969,  67.3125    ,\n",
       "        84.87109375,  42.29394531,  47.0390625 ,  76.75097656,\n",
       "        62.60058594,  57.57128906,  70.93554688,  64.30175781,\n",
       "        91.0078125 ,  68.03417969,  67.91601562,  40.58105469,\n",
       "        74.82226562,  92.56835938,  89.35839844,  69.30175781,\n",
       "        42.265625  ,  76.13769531,  77.68847656,  92.99707031,\n",
       "        80.74316406,  64.53125   ,  86.42382812,  56.23535156,\n",
       "        94.30371094,  60.578125  ,  60.15429688,  88.39160156,\n",
       "        70.95214844,  75.98144531,  81.0703125 ,  77.484375  ,\n",
       "        69.07617188, 108.19824219,  79.16503906,  68.8828125 ,\n",
       "        28.30664062,  75.00292969,  79.85351562,  36.54589844,\n",
       "        59.17871094,  37.77929688,  57.73828125,  90.01367188,\n",
       "        73.58007812,  73.16992188,  72.79882812,  57.68359375,\n",
       "        86.11425781,  70.1328125 ,  81.13574219,  68.68457031,\n",
       "        68.34960938,  54.4140625 ,  82.96679688,  62.50976562,\n",
       "        54.97460938,  82.26660156,  76.31933594,  73.0390625 ,\n",
       "        67.39746094,  74.84863281,  62.02929688,  88.61425781,\n",
       "        57.50585938,  50.80371094,  87.5703125 ,  63.76757812,\n",
       "        80.98339844,  67.609375  ,  56.79394531,  71.09472656,\n",
       "        74.64355469, 102.11132812,  72.89160156,  64.77441406,\n",
       "        29.78710938,  53.92089844,  55.5703125 ,  38.08496094,\n",
       "        84.71972656,  84.375     ,  59.37597656,  73.83203125,\n",
       "        69.25683594,  92.21875   ,  54.75292969,  83.52832031,\n",
       "        40.16894531,  62.43261719,  85.71191406,  65.38964844,\n",
       "        67.40527344, 100.37792969,  97.62890625,  65.16210938,\n",
       "        58.42089844,  69.38867188,  70.24707031,  42.98144531,\n",
       "        61.97851562,  91.34960938,  52.50390625,  91.11230469,\n",
       "        60.38476562,  66.12597656,  72.8515625 ,  99.61816406,\n",
       "        66.03320312,  85.66699219,  54.72070312,  94.52148438,\n",
       "        76.73046875, 105.95214844,  72.20410156,  87.13671875,\n",
       "        63.99511719,  75.53613281,  89.23144531,  71.46972656,\n",
       "        74.25488281,  63.27832031,  68.00097656,  58.92578125,\n",
       "        60.84277344,  40.69921875,  87.48535156,  95.43554688,\n",
       "        39.99511719,  60.29589844,  71.12988281,  64.44726562,\n",
       "        80.42480469,  63.78320312,  80.4765625 ,  77.01953125,\n",
       "        71.3046875 ,  36.12988281,  58.65234375,  84.93554688,\n",
       "        86.91210938,  80.22558594,  61.01367188,  64.10546875,\n",
       "        62.0078125 ,  69.56152344,  47.69726562,  51.28710938,\n",
       "        95.49023438,  89.40722656,  59.74023438,  51.17089844,\n",
       "        98.05273438, 105.78320312,  66.10058594,  54.24121094,\n",
       "        95.31835938,  91.20703125,  56.34570312,  81.93261719,\n",
       "        60.06152344,  91.0078125 ,  83.75292969,  65.37597656,\n",
       "        65.09277344,  79.73144531,  59.18457031,  66.609375  ,\n",
       "        44.37695312,  41.30078125,  84.13183594,  49.31542969,\n",
       "        72.12304688,  73.23144531,  58.96582031,  93.33300781,\n",
       "        80.3359375 ,  62.02050781,  75.28515625,  34.5625    ,\n",
       "        44.00195312,  70.4765625 ,  85.89355469,  80.89648438,\n",
       "        65.87402344,  84.78613281,  46.36328125,  74.05761719,\n",
       "        48.95117188,  60.91796875,  67.29101562,  78.23535156,\n",
       "        58.64550781,  71.2109375 ,  49.24023438,  69.81835938,\n",
       "        63.44921875,  52.45117188,  59.98535156,  49.75195312,\n",
       "        54.06835938,  65.26660156,  73.46484375,  98.39550781,\n",
       "       102.6015625 ,  72.99316406,  83.88574219,  49.0078125 ,\n",
       "        61.20996094, 105.07324219,  70.92578125,  47.22070312,\n",
       "        92.62207031,  72.38574219,  88.35546875,  90.43554688,\n",
       "        93.97753906,  65.55566406,  66.70019531,  67.76855469,\n",
       "        51.8203125 ,  93.98632812,  99.89160156, 107.43164062,\n",
       "        95.04296875,  89.95507812,  84.01855469,  34.6796875 ,\n",
       "        65.13574219,  75.13574219,  88.859375  ,  77.6953125 ,\n",
       "        91.28320312,  61.28125   ,  82.87597656,  79.28125   ,\n",
       "        85.12695312,  58.85058594,  75.32714844,  71.4765625 ,\n",
       "        68.80566406,  83.55664062,  72.69238281,  70.04492188,\n",
       "        59.0703125 ,  96.09179688,  81.72753906,  80.54882812,\n",
       "       107.484375  ,  45.02636719,  93.9609375 ,  50.92382812,\n",
       "        56.99707031,  56.51757812,  90.24121094,  46.12402344,\n",
       "        67.74804688,  69.14257812,  73.43066406,  73.03417969,\n",
       "        77.05957031, 101.45800781,  52.55859375,  82.8359375 ,\n",
       "        43.26855469,  86.71777344,  93.98339844,  88.09765625,\n",
       "        59.44335938,  66.18457031,  35.80761719,  76.67871094,\n",
       "        97.13378906,  66.84863281,  81.20117188,  52.02734375,\n",
       "        77.33105469,  90.6953125 ,  77.50097656,  92.70800781,\n",
       "        85.88183594,  74.22851562,  71.86816406,  73.25195312,\n",
       "        63.87402344,  72.35449219,  66.359375  ,  29.4140625 ,\n",
       "        42.74902344,  75.4140625 , 101.52050781,  80.97167969,\n",
       "        91.67480469,  58.20898438,  73.50878906,  53.50390625,\n",
       "        76.30371094,  90.80371094,  85.86523438,  93.0703125 ,\n",
       "       103.10644531,  70.53515625,  78.37988281,  85.9296875 ,\n",
       "        70.19238281,  74.85351562,  60.07421875,  72.80566406,\n",
       "        74.86132812,  88.13378906,  85.08300781,  96.65820312,\n",
       "        94.95507812,  71.53417969,  95.546875  ,  93.96289062,\n",
       "        93.90625   ,  91.56445312,  65.61132812,  46.39550781,\n",
       "        72.32617188,  65.67480469,  64.56640625,  83.15136719,\n",
       "        83.26757812,  43.79296875,  94.9453125 ,  63.1640625 ,\n",
       "        49.31542969,  81.38964844,  65.50488281,  76.16894531,\n",
       "        46.67773438,  69.59765625,  67.91503906,  90.66699219,\n",
       "        55.32421875,  93.70703125,  64.93554688, 102.828125  ,\n",
       "        71.44726562,  61.23339844,  42.81054688,  91.44726562,\n",
       "        70.58398438,  75.97070312,  71.24609375,  64.73046875,\n",
       "        68.19726562,  61.59960938,  27.88085938,  63.44921875,\n",
       "        82.671875  ,  60.23535156,  62.69824219,  71.13574219,\n",
       "       109.33496094,  65.07714844, 101.14648438,  47.46875   ,\n",
       "        62.87207031,  69.52832031,  84.9453125 ,  63.10644531,\n",
       "        63.24804688,  77.41601562,  77.03125   ,  69.421875  ,\n",
       "        45.70507812,  81.9921875 ,  91.19824219,  75.28125   ,\n",
       "        69.79101562,  91.08105469,  48.13183594,  55.09570312,\n",
       "        88.70703125,  61.06640625,  89.18359375,  84.3515625 ,\n",
       "        52.93164062,  74.87402344,  77.63183594,  92.36230469,\n",
       "        57.33984375,  65.50097656,  29.7890625 ,  47.81640625,\n",
       "        69.61523438,  79.25      ,  85.37695312,  80.70214844,\n",
       "        85.57617188,  89.57714844,  62.828125  ,  96.15136719,\n",
       "        87.37109375,  47.07324219,  73.0625    ,  63.8203125 ,\n",
       "        88.23925781,  72.06933594,  49.86230469,  82.53125   ,\n",
       "        83.52050781,  80.5625    ,  64.86816406,  63.65332031,\n",
       "        69.5078125 ,  74.2890625 ,  85.86035156,  66.29101562,\n",
       "        57.60058594,  71.10449219,  68.50976562,  97.7421875 ,\n",
       "        77.13476562, 106.12304688,  70.62109375,  94.04882812,\n",
       "        72.75195312,  82.22851562,  74.32714844,  68.97558594,\n",
       "        78.9765625 ,  76.61425781,  61.71972656,  83.78320312,\n",
       "        85.12695312,  93.21582031,  63.03027344,  94.75      ,\n",
       "        43.25292969,  63.05273438,  95.66796875,  56.60449219,\n",
       "        45.5625    ,  63.68457031,  56.66308594,  37.83300781,\n",
       "        39.02832031,  78.7265625 ,  62.73730469,  76.75585938,\n",
       "        50.40332031,  92.85546875,  41.61328125,  73.40917969,\n",
       "        71.921875  ,  63.765625  ,  64.67089844,  73.60839844,\n",
       "        66.83984375,  65.15039062,  84.94042969,  70.79296875,\n",
       "        86.14550781,  61.80761719,  93.53710938,  62.60058594,\n",
       "        48.08789062,  83.6171875 ,  53.4765625 ,  80.99902344,\n",
       "        61.29589844,  53.44628906,  75.84570312,  83.66796875,\n",
       "        65.52636719,  87.91992188,  72.98632812,  45.17285156,\n",
       "        87.36621094,  75.81445312,  50.67675781,  77.58203125,\n",
       "        77.92089844,  60.20605469,  78.36621094,  54.63183594,\n",
       "        69.47851562,  54.52539062,  50.71679688,  40.86621094,\n",
       "        86.03125   , 103.0546875 ,  40.79296875,  70.66992188,\n",
       "       105.24121094,  69.84667969,  53.90234375,  50.99804688,\n",
       "        59.15820312, 104.87402344,  57.65722656,  88.47753906,\n",
       "        79.76464844,  46.04980469,  71.33105469,  60.54492188,\n",
       "        78.79101562,  28.4765625 ,  73.25878906,  97.31347656,\n",
       "        55.88964844,  74.24707031,  52.33886719,  40.42480469])"
      ]
     },
     "execution_count": 33,
     "metadata": {},
     "output_type": "execute_result"
    }
   ],
   "source": [
    "y_pred"
   ]
  },
  {
   "cell_type": "code",
   "execution_count": 34,
   "id": "675f4981-1d68-41e6-8c59-df9f29da3e18",
   "metadata": {},
   "outputs": [
    {
     "name": "stdout",
     "output_type": "stream",
     "text": [
      "R² Score: 0.8997931798766938\n",
      "Mean Absolute Error (MSE): 4.378552490234375\n"
     ]
    }
   ],
   "source": [
    "print(\"R² Score:\", r2_score(y_test, y_pred))\n",
    "print(\"Mean Absolute Error (MSE):\", mean_absolute_error(y_test, y_pred))"
   ]
  },
  {
   "cell_type": "code",
   "execution_count": 35,
   "id": "9250cf96-3405-4606-be53-29973434da66",
   "metadata": {},
   "outputs": [
    {
     "name": "stdout",
     "output_type": "stream",
     "text": [
      "Root Mean Squared Error (RMSE): 5.476763369314897\n"
     ]
    }
   ],
   "source": [
    "rmse=np.sqrt(mean_squared_error(y_test,y_pred))\n",
    "print(\"Root Mean Squared Error (RMSE):\",  rmse)"
   ]
  },
  {
   "cell_type": "code",
   "execution_count": 36,
   "id": "ae91ea12-c608-47c6-beef-ac1e94062bcb",
   "metadata": {},
   "outputs": [],
   "source": [
    "y_train_pred1 = model.predict(x_train)\n",
    "y_test_pred1 = model.predict(x_test)"
   ]
  },
  {
   "cell_type": "code",
   "execution_count": 37,
   "id": "9992e38a-5240-41db-9909-fee805339970",
   "metadata": {},
   "outputs": [
    {
     "data": {
      "text/plain": [
       "array([74.80078125, 56.57421875, 62.25195312, ..., 64.36328125,\n",
       "       48.01464844, 62.625     ])"
      ]
     },
     "execution_count": 37,
     "metadata": {},
     "output_type": "execute_result"
    }
   ],
   "source": [
    "y_train_pred1"
   ]
  },
  {
   "cell_type": "code",
   "execution_count": 38,
   "id": "5d2d03e7-583d-4c2f-8f62-f5bff34ccd4d",
   "metadata": {},
   "outputs": [
    {
     "name": "stdout",
     "output_type": "stream",
     "text": [
      "R² Score of training data: 0.8863768183111331\n",
      "MAE of training data: 4.479591430664063\n",
      "RMSE of training data: 5.597172660626932\n"
     ]
    }
   ],
   "source": [
    "r2_train1 = r2_score(y_train, y_train_pred1)\n",
    "mae_train1 = mean_absolute_error(y_train, y_train_pred1)\n",
    "rmse_train1 = np.sqrt(mean_squared_error(y_train, y_train_pred1))\n",
    "print(\"R² Score of training data:\", r2_train1)\n",
    "print(\"MAE of training data:\", mae_train1)\n",
    "print(\"RMSE of training data:\", rmse_train1)"
   ]
  },
  {
   "cell_type": "code",
   "execution_count": 39,
   "id": "bde4e5e5-2ffe-4ab6-a48b-fcfe383828f2",
   "metadata": {},
   "outputs": [
    {
     "name": "stdout",
     "output_type": "stream",
     "text": [
      "R² Score of testing data: 0.8997931798766938\n",
      "MAE of testing data: 4.378552490234375\n",
      "RMSE of testing data: 5.476763369314897\n"
     ]
    }
   ],
   "source": [
    "r2_test1 = r2_score(y_test, y_test_pred1)\n",
    "mae_test1 = mean_absolute_error(y_test, y_test_pred1)\n",
    "rmse_test1 = np.sqrt(mean_squared_error(y_test, y_test_pred1))\n",
    "print(\"R² Score of testing data:\", r2_test1)\n",
    "print(\"MAE of testing data:\", mae_test1)\n",
    "print(\"RMSE of testing data:\", rmse_test1)"
   ]
  },
  {
   "cell_type": "markdown",
   "id": "3d1e2d57-ae58-4cbc-b8b4-20914af177ef",
   "metadata": {},
   "source": [
    "## Decisiontree regressor"
   ]
  },
  {
   "cell_type": "code",
   "execution_count": 41,
   "id": "8017c294-aafe-4a2c-87ed-dbadaa9e0783",
   "metadata": {},
   "outputs": [],
   "source": [
    "from sklearn.tree import DecisionTreeRegressor\n",
    "from sklearn.metrics import mean_squared_error, r2_score"
   ]
  },
  {
   "cell_type": "code",
   "execution_count": 42,
   "id": "acc3dced-1d92-4858-8790-cddc63e85893",
   "metadata": {},
   "outputs": [
    {
     "data": {
      "text/html": [
       "<style>#sk-container-id-2 {color: black;}#sk-container-id-2 pre{padding: 0;}#sk-container-id-2 div.sk-toggleable {background-color: white;}#sk-container-id-2 label.sk-toggleable__label {cursor: pointer;display: block;width: 100%;margin-bottom: 0;padding: 0.3em;box-sizing: border-box;text-align: center;}#sk-container-id-2 label.sk-toggleable__label-arrow:before {content: \"▸\";float: left;margin-right: 0.25em;color: #696969;}#sk-container-id-2 label.sk-toggleable__label-arrow:hover:before {color: black;}#sk-container-id-2 div.sk-estimator:hover label.sk-toggleable__label-arrow:before {color: black;}#sk-container-id-2 div.sk-toggleable__content {max-height: 0;max-width: 0;overflow: hidden;text-align: left;background-color: #f0f8ff;}#sk-container-id-2 div.sk-toggleable__content pre {margin: 0.2em;color: black;border-radius: 0.25em;background-color: #f0f8ff;}#sk-container-id-2 input.sk-toggleable__control:checked~div.sk-toggleable__content {max-height: 200px;max-width: 100%;overflow: auto;}#sk-container-id-2 input.sk-toggleable__control:checked~label.sk-toggleable__label-arrow:before {content: \"▾\";}#sk-container-id-2 div.sk-estimator input.sk-toggleable__control:checked~label.sk-toggleable__label {background-color: #d4ebff;}#sk-container-id-2 div.sk-label input.sk-toggleable__control:checked~label.sk-toggleable__label {background-color: #d4ebff;}#sk-container-id-2 input.sk-hidden--visually {border: 0;clip: rect(1px 1px 1px 1px);clip: rect(1px, 1px, 1px, 1px);height: 1px;margin: -1px;overflow: hidden;padding: 0;position: absolute;width: 1px;}#sk-container-id-2 div.sk-estimator {font-family: monospace;background-color: #f0f8ff;border: 1px dotted black;border-radius: 0.25em;box-sizing: border-box;margin-bottom: 0.5em;}#sk-container-id-2 div.sk-estimator:hover {background-color: #d4ebff;}#sk-container-id-2 div.sk-parallel-item::after {content: \"\";width: 100%;border-bottom: 1px solid gray;flex-grow: 1;}#sk-container-id-2 div.sk-label:hover label.sk-toggleable__label {background-color: #d4ebff;}#sk-container-id-2 div.sk-serial::before {content: \"\";position: absolute;border-left: 1px solid gray;box-sizing: border-box;top: 0;bottom: 0;left: 50%;z-index: 0;}#sk-container-id-2 div.sk-serial {display: flex;flex-direction: column;align-items: center;background-color: white;padding-right: 0.2em;padding-left: 0.2em;position: relative;}#sk-container-id-2 div.sk-item {position: relative;z-index: 1;}#sk-container-id-2 div.sk-parallel {display: flex;align-items: stretch;justify-content: center;background-color: white;position: relative;}#sk-container-id-2 div.sk-item::before, #sk-container-id-2 div.sk-parallel-item::before {content: \"\";position: absolute;border-left: 1px solid gray;box-sizing: border-box;top: 0;bottom: 0;left: 50%;z-index: -1;}#sk-container-id-2 div.sk-parallel-item {display: flex;flex-direction: column;z-index: 1;position: relative;background-color: white;}#sk-container-id-2 div.sk-parallel-item:first-child::after {align-self: flex-end;width: 50%;}#sk-container-id-2 div.sk-parallel-item:last-child::after {align-self: flex-start;width: 50%;}#sk-container-id-2 div.sk-parallel-item:only-child::after {width: 0;}#sk-container-id-2 div.sk-dashed-wrapped {border: 1px dashed gray;margin: 0 0.4em 0.5em 0.4em;box-sizing: border-box;padding-bottom: 0.4em;background-color: white;}#sk-container-id-2 div.sk-label label {font-family: monospace;font-weight: bold;display: inline-block;line-height: 1.2em;}#sk-container-id-2 div.sk-label-container {text-align: center;}#sk-container-id-2 div.sk-container {/* jupyter's `normalize.less` sets `[hidden] { display: none; }` but bootstrap.min.css set `[hidden] { display: none !important; }` so we also need the `!important` here to be able to override the default hidden behavior on the sphinx rendered scikit-learn.org. See: https://github.com/scikit-learn/scikit-learn/issues/21755 */display: inline-block !important;position: relative;}#sk-container-id-2 div.sk-text-repr-fallback {display: none;}</style><div id=\"sk-container-id-2\" class=\"sk-top-container\"><div class=\"sk-text-repr-fallback\"><pre>DecisionTreeRegressor(random_state=42)</pre><b>In a Jupyter environment, please rerun this cell to show the HTML representation or trust the notebook. <br />On GitHub, the HTML representation is unable to render, please try loading this page with nbviewer.org.</b></div><div class=\"sk-container\" hidden><div class=\"sk-item\"><div class=\"sk-estimator sk-toggleable\"><input class=\"sk-toggleable__control sk-hidden--visually\" id=\"sk-estimator-id-2\" type=\"checkbox\" checked><label for=\"sk-estimator-id-2\" class=\"sk-toggleable__label sk-toggleable__label-arrow\">DecisionTreeRegressor</label><div class=\"sk-toggleable__content\"><pre>DecisionTreeRegressor(random_state=42)</pre></div></div></div></div></div>"
      ],
      "text/plain": [
       "DecisionTreeRegressor(random_state=42)"
      ]
     },
     "execution_count": 42,
     "metadata": {},
     "output_type": "execute_result"
    }
   ],
   "source": [
    "data_model = DecisionTreeRegressor(random_state=42)\n",
    "data_model.fit(x_train, y_train)\n"
   ]
  },
  {
   "cell_type": "code",
   "execution_count": 43,
   "id": "091035e4-7937-4c47-9f29-001721a7b303",
   "metadata": {},
   "outputs": [
    {
     "data": {
      "text/plain": [
       "array([ 65.1 ,  56.2 , 100.  ,  92.  ,  69.6 ,  70.6 ,  86.  ,  71.2 ,\n",
       "        50.4 ,  80.4 ,  55.6 ,  76.  ,  79.5 ,  53.5 ,  53.  ,  67.3 ,\n",
       "        31.7 ,  79.3 ,  52.4 ,  86.7 ,  90.9 ,  99.3 ,  82.4 ,  43.3 ,\n",
       "        68.9 ,  58.4 ,  72.2 ,  87.8 ,  71.5 ,  57.9 ,  73.4 ,  86.3 ,\n",
       "        52.4 ,  64.7 , 100.  ,  89.2 ,  85.3 ,  66.6 ,  34.2 ,  77.5 ,\n",
       "        48.4 ,  80.9 ,  57.3 ,  61.9 ,  66.9 ,  77.3 ,  72.  ,  62.3 ,\n",
       "        96.1 ,  68.1 ,  67.6 ,  82.4 ,  68.7 ,  74.3 ,  61.9 ,  45.9 ,\n",
       "        81.8 ,  71.6 ,  74.9 ,  84.6 ,  78.9 ,  73.2 ,  79.  ,  50.3 ,\n",
       "        59.3 ,  20.  ,  81.  ,  71.3 ,  70.5 , 100.  ,  57.2 ,  76.1 ,\n",
       "        73.7 ,  86.9 ,  99.6 ,  61.4 ,  91.2 ,  57.3 ,  71.5 , 100.  ,\n",
       "        99.  ,  82.  ,  79.7 ,  40.2 ,  65.8 ,  62.3 ,  50.9 ,  78.4 ,\n",
       "        73.6 ,  66.7 ,  62.4 ,  69.2 ,  76.2 ,  40.3 ,  94.8 ,  86.2 ,\n",
       "        53.7 ,  66.6 ,  57.  , 100.  ,  31.7 ,  84.9 ,  42.1 ,  90.8 ,\n",
       "        54.2 ,  45.9 ,  73.6 ,  94.  ,  65.4 ,  64.1 ,  80.4 ,  61.8 ,\n",
       "        71.7 ,  71.6 ,  52.2 ,  47.  ,  32.  ,  58.  ,  70.2 ,  65.2 ,\n",
       "        78.4 ,  92.2 ,  70.7 ,  75.5 ,  61.2 ,  92.4 ,  78.3 ,  77.3 ,\n",
       "        75.2 ,  69.2 ,  56.2 ,  75.6 ,  93.6 ,  46.7 ,  76.5 ,  50.7 ,\n",
       "        57.2 , 100.  ,  40.  ,  75.8 ,  79.2 ,  42.6 ,  80.7 ,  75.6 ,\n",
       "        69.8 ,  87.3 ,  49.9 ,  66.7 ,  87.3 ,  73.3 ,  40.  ,  67.3 ,\n",
       "        43.8 ,  83.  ,  60.7 ,  68.4 , 100.  ,  55.6 ,  41.9 ,  54.7 ,\n",
       "        81.6 ,  84.1 ,  89.  ,  77.4 ,  84.5 ,  73.3 ,  79.9 ,  52.9 ,\n",
       "        78.4 ,  58.7 ,  90.3 ,  48.3 ,  92.2 ,  41.8 ,  55.  ,  50.  ,\n",
       "        89.6 ,  63.  ,  76.1 ,  79.9 ,  61.  ,  48.5 ,  20.  ,  76.1 ,\n",
       "        65.  ,  64.5 ,  85.8 ,  93.9 ,  78.2 ,  41.9 ,  70.2 ,  66.6 ,\n",
       "        74.2 ,  94.8 ,  33.5 ,  64.7 ,  50.9 ,  64.2 ,  81.4 ,  73.6 ,\n",
       "        99.  ,  90.  ,  68.1 ,  20.  ,  51.1 ,  80.6 ,  33.5 ,  79.3 ,\n",
       "        84.3 ,  63.2 ,  47.2 ,  55.1 ,  48.3 ,  46.7 ,  52.7 ,  57.7 ,\n",
       "        72.8 ,  72.6 ,  83.7 ,  45.9 ,  58.4 ,  96.35,  79.  ,  66.3 ,\n",
       "       100.  ,  52.2 ,  77.1 ,  48.7 ,  69.  ,  84.8 ,  87.2 ,  42.7 ,\n",
       "        62.6 ,  79.3 ,  87.6 ,  33.7 ,  27.9 ,  67.9 ,  94.6 ,  82.8 ,\n",
       "        73.3 ,  79.  ,  59.8 ,  85.8 ,  61.9 ,  78.4 ,  87.  ,  40.3 ,\n",
       "        63.8 ,  69.4 ,  81.9 ,  57.8 ,  85.8 ,  67.6 , 100.  ,  55.1 ,\n",
       "        80.1 ,  78.4 ,  62.6 ,  78.5 ,  74.8 ,  81.  ,  78.4 ,  57.2 ,\n",
       "        53.5 ,  64.7 ,  51.7 ,  82.8 ,  70.5 ,  45.8 ,  70.2 ,  80.3 ,\n",
       "        97.5 ,  96.  ,  62.1 ,  92.7 ,  49.5 ,  59.2 ,  87.2 ,  73.4 ,\n",
       "        68.9 , 100.  ,  94.45,  60.4 ,  81.1 ,  90.6 ,  68.1 ,  89.4 ,\n",
       "        81.7 ,  93.5 ,  79.5 ,  71.4 ,  83.3 ,  34.2 ,  37.9 ,  78.8 ,\n",
       "        56.2 ,  54.6 ,  73.3 ,  69.2 ,  84.5 ,  70.6 ,  60.4 ,  41.9 ,\n",
       "        77.3 ,  96.8 ,  97.  ,  63.2 ,  44.1 ,  82.7 ,  80.3 ,  89.3 ,\n",
       "        77.05,  61.9 ,  79.5 ,  57.3 ,  95.  ,  54.5 ,  56.6 ,  91.2 ,\n",
       "        82.2 ,  77.5 ,  72.8 ,  68.7 ,  69.6 , 100.  ,  83.8 ,  77.1 ,\n",
       "        33.2 ,  75.7 ,  83.7 ,  18.9 ,  47.5 ,  40.4 ,  54.4 ,  96.2 ,\n",
       "        68.5 ,  65.4 ,  75.2 ,  53.4 ,  84.3 ,  62.2 ,  83.6 ,  74.5 ,\n",
       "        69.  ,  58.  ,  79.  ,  58.7 ,  58.4 ,  81.9 ,  74.3 ,  80.6 ,\n",
       "        73.6 ,  74.7 ,  57.5 ,  89.4 ,  60.3 ,  44.1 ,  91.1 ,  57.3 ,\n",
       "        72.8 ,  73.2 ,  57.  ,  71.2 ,  83.6 ,  95.5 ,  67.9 ,  61.6 ,\n",
       "        38.4 ,  57.  ,  55.2 ,  40.3 ,  87.2 ,  82.3 ,  66.3 ,  65.  ,\n",
       "        62.2 ,  85.8 ,  56.8 ,  81.8 ,  38.5 ,  59.5 ,  79.  ,  67.7 ,\n",
       "        65.8 , 100.  ,  83.25,  67.7 ,  57.95,  70.8 ,  74.9 ,  46.  ,\n",
       "        68.3 ,  91.35,  48.6 ,  87.7 ,  57.2 ,  68.  ,  83.5 ,  99.  ,\n",
       "        62.2 ,  81.6 ,  51.1 ,  99.6 ,  78.5 , 100.  ,  64.1 ,  80.9 ,\n",
       "        58.9 ,  73.8 ,  85.6 ,  67.9 ,  70.1 ,  61.3 ,  75.7 ,  64.1 ,\n",
       "        59.55,  45.2 ,  95.2 , 100.  ,  40.2 ,  49.9 ,  62.7 ,  55.1 ,\n",
       "        74.9 ,  67.6 ,  75.6 ,  69.7 ,  62.4 ,  45.3 ,  58.9 ,  95.2 ,\n",
       "        90.2 ,  74.1 ,  69.3 ,  61.9 ,  70.8 ,  73.7 ,  56.6 ,  44.1 ,\n",
       "        96.4 ,  88.8 ,  50.3 ,  51.7 ,  98.7 , 100.  ,  60.4 ,  56.8 ,\n",
       "        90.5 ,  93.3 ,  62.4 ,  82.4 ,  58.8 ,  84.5 ,  85.7 ,  63.8 ,\n",
       "        58.8 ,  71.8 ,  52.3 ,  72.1 ,  45.9 ,  44.7 ,  80.1 ,  45.8 ,\n",
       "        73.8 ,  75.3 ,  58.9 ,  99.5 ,  81.3 ,  60.6 ,  70.2 ,  31.7 ,\n",
       "        45.8 ,  68.9 ,  84.9 ,  62.9 ,  65.8 ,  83.3 ,  51.6 ,  67.3 ,\n",
       "        49.3 ,  70.9 ,  57.6 ,  78.2 ,  57.5 ,  63.2 ,  48.3 ,  72.  ,\n",
       "        73.3 ,  54.8 ,  59.9 ,  46.4 ,  66.6 ,  61.4 ,  67.2 ,  86.1 ,\n",
       "       100.  ,  72.  ,  83.1 ,  43.3 ,  65.  , 100.  ,  65.25,  42.1 ,\n",
       "        99.5 ,  70.1 ,  86.5 ,  97.1 ,  94.5 ,  71.6 ,  53.6 ,  56.1 ,\n",
       "        49.2 ,  92.2 , 100.  ,  96.4 , 100.  ,  91.2 ,  88.1 ,  34.9 ,\n",
       "        72.7 ,  83.3 ,  96.8 ,  70.  ,  94.5 ,  60.6 ,  77.7 ,  78.7 ,\n",
       "        82.  ,  63.8 ,  80.4 ,  67.9 ,  76.5 ,  75.1 ,  74.5 ,  64.6 ,\n",
       "        63.7 ,  88.8 ,  79.6 ,  78.4 , 100.  ,  38.7 ,  98.  ,  40.3 ,\n",
       "        62.6 ,  63.1 ,  92.4 ,  52.6 ,  76.9 ,  62.3 ,  73.1 ,  64.3 ,\n",
       "        71.6 ,  95.5 ,  52.6 ,  86.9 ,  39.5 ,  69.  ,  90.6 ,  85.2 ,\n",
       "        57.  ,  58.9 ,  18.9 ,  70.2 , 100.  ,  64.2 ,  83.2 ,  42.  ,\n",
       "        71.  ,  91.  ,  73.7 ,  95.2 ,  91.9 ,  64.3 ,  74.5 ,  84.6 ,\n",
       "        66.7 ,  66.7 ,  61.4 ,  28.6 ,  43.3 ,  77.5 , 100.  ,  78.2 ,\n",
       "       100.  ,  53.5 ,  72.9 ,  56.  ,  68.6 ,  93.7 ,  84.9 ,  92.1 ,\n",
       "       100.  ,  61.2 ,  83.5 ,  85.4 ,  67.8 ,  68.1 ,  58.9 ,  79.2 ,\n",
       "        64.9 ,  89.6 ,  85.4 ,  99.8 ,  94.6 ,  74.6 ,  87.7 , 100.  ,\n",
       "        90.7 ,  94.85,  76.7 ,  38.  ,  71.  ,  65.8 ,  72.6 ,  94.8 ,\n",
       "        72.  ,  48.6 ,  97.2 ,  65.5 ,  45.8 ,  79.3 ,  74.2 ,  74.8 ,\n",
       "        46.7 ,  62.3 ,  66.9 ,  94.9 ,  51.9 ,  95.2 ,  66.6 , 100.  ,\n",
       "        78.7 ,  60.9 ,  46.9 , 100.  ,  74.  ,  84.6 ,  75.6 ,  70.6 ,\n",
       "        67.4 ,  56.2 ,  16.6 ,  66.3 ,  80.2 ,  59.2 ,  73.4 ,  69.4 ,\n",
       "       100.  ,  70.6 , 100.  ,  37.  ,  61.  ,  67.3 ,  80.4 ,  65.5 ,\n",
       "        70.6 ,  73.7 ,  71.6 ,  57.9 ,  42.3 ,  79.3 ,  94.5 ,  82.4 ,\n",
       "        62.2 ,  82.6 ,  48.3 ,  53.9 ,  71.8 ,  52.2 ,  89.4 ,  72.3 ,\n",
       "        53.6 ,  73.1 ,  78.8 ,  90.6 ,  58.6 ,  69.4 ,  26.9 ,  43.3 ,\n",
       "        67.2 ,  81.1 ,  77.2 ,  83.5 ,  95.5 ,  88.4 ,  66.4 , 100.  ,\n",
       "        98.  ,  50.3 ,  64.3 ,  66.9 ,  92.2 ,  67.8 ,  43.  ,  75.3 ,\n",
       "        94.8 ,  76.4 ,  69.6 ,  59.9 ,  60.6 ,  70.2 ,  95.5 ,  65.3 ,\n",
       "        48.9 ,  66.8 ,  72.6 ,  83.25,  82.4 , 100.  ,  61.1 ,  91.7 ,\n",
       "        68.1 ,  86.5 ,  76.1 ,  69.6 ,  66.7 ,  78.4 ,  65.2 ,  83.2 ,\n",
       "        82.  ,  90.6 ,  54.8 , 100.  ,  48.6 ,  63.3 ,  91.5 ,  57.3 ,\n",
       "        43.5 ,  64.7 ,  51.  ,  37.3 ,  42.  ,  76.8 ,  65.5 ,  78.3 ,\n",
       "        43.5 , 100.  ,  36.6 ,  80.6 ,  70.7 ,  55.1 ,  75.7 ,  80.4 ,\n",
       "        60.4 ,  65.9 ,  75.4 ,  62.4 ,  95.5 ,  62.3 ,  93.6 ,  71.3 ,\n",
       "        47.3 ,  79.9 ,  57.2 ,  85.5 ,  55.1 ,  66.3 ,  89.1 ,  85.7 ,\n",
       "        65.1 ,  77.8 ,  61.6 ,  56.6 ,  86.6 ,  73.4 ,  47.3 ,  79.9 ,\n",
       "        74.  ,  59.2 ,  71.8 ,  57.2 ,  78.1 ,  47.1 ,  47.1 ,  42.3 ,\n",
       "        95.5 ,  99.9 ,  48.2 ,  76.3 ,  96.4 ,  72.  ,  51.9 ,  38.  ,\n",
       "        43.  , 100.  ,  56.9 ,  87.5 ,  83.5 ,  48.1 ,  77.5 ,  61.6 ,\n",
       "        71.5 ,  33.2 ,  75.1 ,  98.7 ,  58.5 ,  84.6 ,  58.6 ,  45.7 ])"
      ]
     },
     "execution_count": 43,
     "metadata": {},
     "output_type": "execute_result"
    }
   ],
   "source": [
    "y_pred2 = data_model.predict(x_test)\n",
    "y_pred2"
   ]
  },
  {
   "cell_type": "code",
   "execution_count": 44,
   "id": "8b7e459a-f11f-4850-ab6c-458dc2c4574a",
   "metadata": {},
   "outputs": [
    {
     "name": "stdout",
     "output_type": "stream",
     "text": [
      "r² Score: 0.7934015288975357\n",
      "Mean Absolute Error (MSE): 6.119625000000001\n"
     ]
    }
   ],
   "source": [
    "print(\"r² Score:\", r2_score(y_test, y_pred2))\n",
    "print(\"Mean Absolute Error (MSE):\", mean_absolute_error(y_test, y_pred2))"
   ]
  },
  {
   "cell_type": "code",
   "execution_count": 45,
   "id": "d4926a26-391d-4328-b5a9-8795890a009b",
   "metadata": {},
   "outputs": [
    {
     "name": "stdout",
     "output_type": "stream",
     "text": [
      "Root Mean Squared Error (RMSE): 7.863916406600467\n"
     ]
    }
   ],
   "source": [
    "rmse=np.sqrt(mean_squared_error(y_test,y_pred2))\n",
    "print(\"Root Mean Squared Error (RMSE):\",  rmse)"
   ]
  },
  {
   "cell_type": "code",
   "execution_count": 46,
   "id": "ea6d9f6c-da4c-4a2a-9171-3be684bcacbd",
   "metadata": {},
   "outputs": [],
   "source": [
    "y_train_pred2 = data_model.predict(x_train)\n",
    "y_test_pred2 = data_model.predict(x_test)"
   ]
  },
  {
   "cell_type": "code",
   "execution_count": 47,
   "id": "18d37d2c-2db3-4f4a-9627-cb0b2c9c644a",
   "metadata": {},
   "outputs": [
    {
     "name": "stdout",
     "output_type": "stream",
     "text": [
      "R² Score of training data: 0.997806672192006\n",
      "MAE of training data: 0.1256354166666667\n",
      "RMSE of training data: 0.7776550622437518\n"
     ]
    }
   ],
   "source": [
    "r2_train2 = r2_score(y_train, y_train_pred2)\n",
    "mae_train2 = mean_absolute_error(y_train, y_train_pred2)\n",
    "rmse_train2 = np.sqrt(mean_squared_error(y_train, y_train_pred2))\n",
    "print(\"R² Score of training data:\", r2_train2)\n",
    "print(\"MAE of training data:\", mae_train2)\n",
    "print(\"RMSE of training data:\", rmse_train2)"
   ]
  },
  {
   "cell_type": "code",
   "execution_count": 48,
   "id": "826c39ed-d04b-4907-8b84-4d78ac829148",
   "metadata": {},
   "outputs": [
    {
     "name": "stdout",
     "output_type": "stream",
     "text": [
      "R² Score of testing data: 0.7934015288975357\n",
      "MAE of testing data: 6.119625000000001\n",
      "RMSE of testing data: 7.863916406600467\n"
     ]
    }
   ],
   "source": [
    "r2_test2 = r2_score(y_test, y_test_pred2)\n",
    "mae_test2 = mean_absolute_error(y_test, y_test_pred2)\n",
    "rmse_test2 = np.sqrt(mean_squared_error(y_test, y_test_pred2))\n",
    "print(\"R² Score of testing data:\", r2_test2)\n",
    "print(\"MAE of testing data:\", mae_test2)\n",
    "print(\"RMSE of testing data:\", rmse_test2)"
   ]
  },
  {
   "cell_type": "markdown",
   "id": "41f3c44f-44c6-4c5c-953a-d82192a62cb0",
   "metadata": {},
   "source": [
    "## Step 5"
   ]
  },
  {
   "cell_type": "code",
   "execution_count": 50,
   "id": "6410c2cf-fcb4-420e-9397-974cb208aab0",
   "metadata": {},
   "outputs": [
    {
     "data": {
      "text/plain": [
       "0.8863768183111331"
      ]
     },
     "execution_count": 50,
     "metadata": {},
     "output_type": "execute_result"
    }
   ],
   "source": [
    "r2_train1"
   ]
  },
  {
   "cell_type": "code",
   "execution_count": 51,
   "id": "9ace2824-369e-4e27-97dc-234ca75af4d9",
   "metadata": {},
   "outputs": [
    {
     "data": {
      "text/plain": [
       "0.8997931798766938"
      ]
     },
     "execution_count": 51,
     "metadata": {},
     "output_type": "execute_result"
    }
   ],
   "source": [
    "r2_test1 "
   ]
  },
  {
   "cell_type": "markdown",
   "id": "127e3e82-2a8b-4d04-939b-eca426dc11ee",
   "metadata": {},
   "source": [
    "## model is overfitted"
   ]
  },
  {
   "cell_type": "code",
   "execution_count": 53,
   "id": "b01c6e05-7d19-49fe-a5d1-addab4405ae7",
   "metadata": {},
   "outputs": [
    {
     "data": {
      "text/plain": [
       "0.997806672192006"
      ]
     },
     "execution_count": 53,
     "metadata": {},
     "output_type": "execute_result"
    }
   ],
   "source": [
    "r2_train2"
   ]
  },
  {
   "cell_type": "code",
   "execution_count": 54,
   "id": "e30b9036-218d-4ec6-bcde-7a8d6e0f15e7",
   "metadata": {},
   "outputs": [
    {
     "data": {
      "text/plain": [
       "0.7934015288975357"
      ]
     },
     "execution_count": 54,
     "metadata": {},
     "output_type": "execute_result"
    }
   ],
   "source": [
    "r2_test2"
   ]
  },
  {
   "cell_type": "markdown",
   "id": "f7a6235d-1ca4-4be0-8567-4f7b7a71a1fd",
   "metadata": {},
   "source": [
    "## Decisiontree model not overfitted"
   ]
  },
  {
   "cell_type": "markdown",
   "id": "e906a2c6-2944-4249-a265-783e3e7f5df8",
   "metadata": {},
   "source": [
    "## Step 6"
   ]
  },
  {
   "cell_type": "code",
   "execution_count": 57,
   "id": "a7cb209a-07e4-42ef-98cb-54fec39337ad",
   "metadata": {},
   "outputs": [],
   "source": [
    "from sklearn.linear_model import Lasso\n",
    "from sklearn.model_selection import GridSearchCV"
   ]
  },
  {
   "cell_type": "code",
   "execution_count": 58,
   "id": "68af382b-af3b-4ea3-93d2-c140d6e8abb4",
   "metadata": {},
   "outputs": [],
   "source": [
    "lasso = Lasso(max_iter=100)"
   ]
  },
  {
   "cell_type": "code",
   "execution_count": 59,
   "id": "2346e573-abfb-48b6-a43e-6d7f2ba5643f",
   "metadata": {},
   "outputs": [],
   "source": [
    "param_grid = {\n",
    "    'alpha': [0.0001, 0.001, 0.01, 0.1, 1, 10]\n",
    "}"
   ]
  },
  {
   "cell_type": "code",
   "execution_count": 60,
   "id": "9cddf2ac-406e-4f86-afc2-58e52bb12565",
   "metadata": {},
   "outputs": [
    {
     "data": {
      "text/html": [
       "<style>#sk-container-id-3 {color: black;}#sk-container-id-3 pre{padding: 0;}#sk-container-id-3 div.sk-toggleable {background-color: white;}#sk-container-id-3 label.sk-toggleable__label {cursor: pointer;display: block;width: 100%;margin-bottom: 0;padding: 0.3em;box-sizing: border-box;text-align: center;}#sk-container-id-3 label.sk-toggleable__label-arrow:before {content: \"▸\";float: left;margin-right: 0.25em;color: #696969;}#sk-container-id-3 label.sk-toggleable__label-arrow:hover:before {color: black;}#sk-container-id-3 div.sk-estimator:hover label.sk-toggleable__label-arrow:before {color: black;}#sk-container-id-3 div.sk-toggleable__content {max-height: 0;max-width: 0;overflow: hidden;text-align: left;background-color: #f0f8ff;}#sk-container-id-3 div.sk-toggleable__content pre {margin: 0.2em;color: black;border-radius: 0.25em;background-color: #f0f8ff;}#sk-container-id-3 input.sk-toggleable__control:checked~div.sk-toggleable__content {max-height: 200px;max-width: 100%;overflow: auto;}#sk-container-id-3 input.sk-toggleable__control:checked~label.sk-toggleable__label-arrow:before {content: \"▾\";}#sk-container-id-3 div.sk-estimator input.sk-toggleable__control:checked~label.sk-toggleable__label {background-color: #d4ebff;}#sk-container-id-3 div.sk-label input.sk-toggleable__control:checked~label.sk-toggleable__label {background-color: #d4ebff;}#sk-container-id-3 input.sk-hidden--visually {border: 0;clip: rect(1px 1px 1px 1px);clip: rect(1px, 1px, 1px, 1px);height: 1px;margin: -1px;overflow: hidden;padding: 0;position: absolute;width: 1px;}#sk-container-id-3 div.sk-estimator {font-family: monospace;background-color: #f0f8ff;border: 1px dotted black;border-radius: 0.25em;box-sizing: border-box;margin-bottom: 0.5em;}#sk-container-id-3 div.sk-estimator:hover {background-color: #d4ebff;}#sk-container-id-3 div.sk-parallel-item::after {content: \"\";width: 100%;border-bottom: 1px solid gray;flex-grow: 1;}#sk-container-id-3 div.sk-label:hover label.sk-toggleable__label {background-color: #d4ebff;}#sk-container-id-3 div.sk-serial::before {content: \"\";position: absolute;border-left: 1px solid gray;box-sizing: border-box;top: 0;bottom: 0;left: 50%;z-index: 0;}#sk-container-id-3 div.sk-serial {display: flex;flex-direction: column;align-items: center;background-color: white;padding-right: 0.2em;padding-left: 0.2em;position: relative;}#sk-container-id-3 div.sk-item {position: relative;z-index: 1;}#sk-container-id-3 div.sk-parallel {display: flex;align-items: stretch;justify-content: center;background-color: white;position: relative;}#sk-container-id-3 div.sk-item::before, #sk-container-id-3 div.sk-parallel-item::before {content: \"\";position: absolute;border-left: 1px solid gray;box-sizing: border-box;top: 0;bottom: 0;left: 50%;z-index: -1;}#sk-container-id-3 div.sk-parallel-item {display: flex;flex-direction: column;z-index: 1;position: relative;background-color: white;}#sk-container-id-3 div.sk-parallel-item:first-child::after {align-self: flex-end;width: 50%;}#sk-container-id-3 div.sk-parallel-item:last-child::after {align-self: flex-start;width: 50%;}#sk-container-id-3 div.sk-parallel-item:only-child::after {width: 0;}#sk-container-id-3 div.sk-dashed-wrapped {border: 1px dashed gray;margin: 0 0.4em 0.5em 0.4em;box-sizing: border-box;padding-bottom: 0.4em;background-color: white;}#sk-container-id-3 div.sk-label label {font-family: monospace;font-weight: bold;display: inline-block;line-height: 1.2em;}#sk-container-id-3 div.sk-label-container {text-align: center;}#sk-container-id-3 div.sk-container {/* jupyter's `normalize.less` sets `[hidden] { display: none; }` but bootstrap.min.css set `[hidden] { display: none !important; }` so we also need the `!important` here to be able to override the default hidden behavior on the sphinx rendered scikit-learn.org. See: https://github.com/scikit-learn/scikit-learn/issues/21755 */display: inline-block !important;position: relative;}#sk-container-id-3 div.sk-text-repr-fallback {display: none;}</style><div id=\"sk-container-id-3\" class=\"sk-top-container\"><div class=\"sk-text-repr-fallback\"><pre>GridSearchCV(cv=7, estimator=Lasso(max_iter=100),\n",
       "             param_grid={&#x27;alpha&#x27;: [0.0001, 0.001, 0.01, 0.1, 1, 10]},\n",
       "             scoring=&#x27;r2&#x27;)</pre><b>In a Jupyter environment, please rerun this cell to show the HTML representation or trust the notebook. <br />On GitHub, the HTML representation is unable to render, please try loading this page with nbviewer.org.</b></div><div class=\"sk-container\" hidden><div class=\"sk-item sk-dashed-wrapped\"><div class=\"sk-label-container\"><div class=\"sk-label sk-toggleable\"><input class=\"sk-toggleable__control sk-hidden--visually\" id=\"sk-estimator-id-3\" type=\"checkbox\" ><label for=\"sk-estimator-id-3\" class=\"sk-toggleable__label sk-toggleable__label-arrow\">GridSearchCV</label><div class=\"sk-toggleable__content\"><pre>GridSearchCV(cv=7, estimator=Lasso(max_iter=100),\n",
       "             param_grid={&#x27;alpha&#x27;: [0.0001, 0.001, 0.01, 0.1, 1, 10]},\n",
       "             scoring=&#x27;r2&#x27;)</pre></div></div></div><div class=\"sk-parallel\"><div class=\"sk-parallel-item\"><div class=\"sk-item\"><div class=\"sk-label-container\"><div class=\"sk-label sk-toggleable\"><input class=\"sk-toggleable__control sk-hidden--visually\" id=\"sk-estimator-id-4\" type=\"checkbox\" ><label for=\"sk-estimator-id-4\" class=\"sk-toggleable__label sk-toggleable__label-arrow\">estimator: Lasso</label><div class=\"sk-toggleable__content\"><pre>Lasso(max_iter=100)</pre></div></div></div><div class=\"sk-serial\"><div class=\"sk-item\"><div class=\"sk-estimator sk-toggleable\"><input class=\"sk-toggleable__control sk-hidden--visually\" id=\"sk-estimator-id-5\" type=\"checkbox\" ><label for=\"sk-estimator-id-5\" class=\"sk-toggleable__label sk-toggleable__label-arrow\">Lasso</label><div class=\"sk-toggleable__content\"><pre>Lasso(max_iter=100)</pre></div></div></div></div></div></div></div></div></div></div>"
      ],
      "text/plain": [
       "GridSearchCV(cv=7, estimator=Lasso(max_iter=100),\n",
       "             param_grid={'alpha': [0.0001, 0.001, 0.01, 0.1, 1, 10]},\n",
       "             scoring='r2')"
      ]
     },
     "execution_count": 60,
     "metadata": {},
     "output_type": "execute_result"
    }
   ],
   "source": [
    "grid_search = GridSearchCV(estimator=lasso, param_grid=param_grid, cv=7, scoring='r2')\n",
    "grid_search.fit(x_train, y_train)"
   ]
  },
  {
   "cell_type": "code",
   "execution_count": 61,
   "id": "7767130e-1667-454b-8d21-c226ceed5a63",
   "metadata": {},
   "outputs": [],
   "source": [
    "tuned_model = grid_search.best_estimator_"
   ]
  },
  {
   "cell_type": "code",
   "execution_count": 62,
   "id": "690d6493-f9b3-4d5e-b2ca-1417ee1b88b4",
   "metadata": {},
   "outputs": [],
   "source": [
    "y_train_tuned = tuned_model.predict(x_train)\n",
    "y_test_tuned = tuned_model.predict(x_test)"
   ]
  },
  {
   "cell_type": "code",
   "execution_count": 63,
   "id": "67e51a14-92dd-4f4a-ab72-7f5e2ce68212",
   "metadata": {},
   "outputs": [
    {
     "name": "stdout",
     "output_type": "stream",
     "text": [
      "R² Score of training data: 0.8863803832949035\n"
     ]
    }
   ],
   "source": [
    "r2_train_tuned = r2_score(y_train, y_train_tuned)\n",
    "print(\"R² Score of training data:\", r2_train_tuned)"
   ]
  },
  {
   "cell_type": "code",
   "execution_count": 64,
   "id": "9ca99706-4e1b-43a5-8c67-fe2ef89fe79d",
   "metadata": {},
   "outputs": [
    {
     "name": "stdout",
     "output_type": "stream",
     "text": [
      "R² Score of testing data: 0.8997309440622323\n"
     ]
    }
   ],
   "source": [
    "r2_test_tuned = r2_score(y_test, y_test_tuned)\n",
    "print(\"R² Score of testing data:\", r2_test_tuned)"
   ]
  },
  {
   "cell_type": "markdown",
   "id": "c7c92379-99b4-453a-9050-aa87c8478c3c",
   "metadata": {},
   "source": [
    "## Step 7"
   ]
  },
  {
   "cell_type": "code",
   "execution_count": 66,
   "id": "9633fb67-5e52-444f-98ab-16c9303b71cd",
   "metadata": {},
   "outputs": [
    {
     "data": {
      "image/png": "[encoded data removed]",
      "text/plain": [
       "<Figure size 800x600 with 1 Axes>"
      ]
     },
     "metadata": {},
     "output_type": "display_data"
    }
   ],
   "source": [
    "plt.figure(figsize=(8, 6))\n",
    "sns.scatterplot(x=y_test, y=y_pred2)\n",
    "plt.xlabel(\"Actual Score\")\n",
    "plt.ylabel(\"Predicted Score\")\n",
    "plt.title(\"Actual vs Predicted Scores\")\n",
    "plt.grid(True)\n",
    "plt.show()"
   ]
  },
  {
   "cell_type": "code",
   "execution_count": null,
   "id": "dbdb0994-101b-4ffb-9d3a-79557d5a9fb4",
   "metadata": {},
   "outputs": [],
   "source": []
  }
 ],
 "metadata": {
  "kernelspec": {
   "display_name": "Python 3 (ipykernel)",
   "language": "python",
   "name": "python3"
  },
  "language_info": {
   "codemirror_mode": {
    "name": "ipython",
    "version": 3
   },
   "file_extension": ".py",
   "mimetype": "text/x-python",
   "name": "python",
   "nbconvert_exporter": "python",
   "pygments_lexer": "ipython3",
   "version": "3.11.2"
  }
 },
 "nbformat": 4,
 "nbformat_minor": 5
}
