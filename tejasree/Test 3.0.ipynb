{
 "cells": [
  {
   "cell_type": "markdown",
   "id": "bdb2ee5e",
   "metadata": {},
   "source": [
    "## Test 3.0\n"
   ]
  },
  {
   "cell_type": "code",
   "execution_count": null,
   "id": "9ea78eeb",
   "metadata": {},
   "outputs": [],
   "source": []
  },
  {
   "cell_type": "raw",
   "id": "f91e1f0a",
   "metadata": {},
   "source": [
    "Write a Python program to check whether a number is even or odd using if-else."
   ]
  },
  {
   "cell_type": "code",
   "execution_count": 1,
   "id": "256980f3",
   "metadata": {},
   "outputs": [
    {
     "name": "stdin",
     "output_type": "stream",
     "text": [
      "Enter a number:  3\n"
     ]
    },
    {
     "name": "stdout",
     "output_type": "stream",
     "text": [
      "3 is Odd.\n"
     ]
    }
   ],
   "source": [
    "num = int(input(\"Enter a number: \"))\n",
    "\n",
    "if num % 2 == 0:\n",
    "    print(f\"{num} is Even.\")\n",
    "else:\n",
    "    print(f\"{num} is Odd.\")\n"
   ]
  },
  {
   "cell_type": "raw",
   "id": "a0e3a554",
   "metadata": {},
   "source": [
    "Write a for loop that prints numbers from 10 to 1 in reverse"
   ]
  },
  {
   "cell_type": "code",
   "execution_count": 2,
   "id": "e9ad4e5d",
   "metadata": {},
   "outputs": [
    {
     "name": "stdout",
     "output_type": "stream",
     "text": [
      "10\n",
      "9\n",
      "8\n",
      "7\n",
      "6\n",
      "5\n",
      "4\n",
      "3\n",
      "2\n",
      "1\n"
     ]
    }
   ],
   "source": [
    "for i in range(10, 0, -1):\n",
    "    print(i)\n"
   ]
  },
  {
   "cell_type": "raw",
   "id": "589596de",
   "metadata": {},
   "source": [
    "Write a while loop that keeps asking the user to input a number until they enter 0."
   ]
  },
  {
   "cell_type": "code",
   "execution_count": 3,
   "id": "b0279e4c",
   "metadata": {},
   "outputs": [
    {
     "name": "stdin",
     "output_type": "stream",
     "text": [
      "Enter a number (0 to stop):  3\n"
     ]
    },
    {
     "name": "stdout",
     "output_type": "stream",
     "text": [
      "You entered: 3\n"
     ]
    },
    {
     "name": "stdin",
     "output_type": "stream",
     "text": [
      "Enter a number (0 to stop):  8\n"
     ]
    },
    {
     "name": "stdout",
     "output_type": "stream",
     "text": [
      "You entered: 8\n"
     ]
    },
    {
     "name": "stdin",
     "output_type": "stream",
     "text": [
      "Enter a number (0 to stop):  0\n"
     ]
    },
    {
     "name": "stdout",
     "output_type": "stream",
     "text": [
      "You entered 0. Program ended.\n"
     ]
    }
   ],
   "source": [
    "number = int(input(\"Enter a number (0 to stop): \"))\n",
    "\n",
    "while number != 0:\n",
    "    print(f\"You entered: {number}\")\n",
    "    number = int(input(\"Enter a number (0 to stop): \"))\n",
    "\n",
    "print(\"You entered 0. Program ended.\")\n"
   ]
  },
  {
   "cell_type": "raw",
   "id": "e17f026e",
   "metadata": {},
   "source": [
    "Write a function that accepts two numbers and returns their sum."
   ]
  },
  {
   "cell_type": "code",
   "execution_count": 4,
   "id": "49132598",
   "metadata": {},
   "outputs": [
    {
     "name": "stdout",
     "output_type": "stream",
     "text": [
      "The sum is: 12\n"
     ]
    }
   ],
   "source": [
    "def add_numbers(a, b):\n",
    "    return a + b\n",
    "\n",
    "result = add_numbers(5, 7)\n",
    "print(\"The sum is:\", result)\n"
   ]
  },
  {
   "cell_type": "code",
   "execution_count": null,
   "id": "cae99b95",
   "metadata": {},
   "outputs": [],
   "source": [
    "What will be the output of this code: print(list(map(lambda x: x*x, [1, 2, 3])))?"
   ]
  },
  {
   "cell_type": "code",
   "execution_count": null,
   "id": "20c6ce60",
   "metadata": {},
   "outputs": [],
   "source": [
    "[1, 4, 9]\n"
   ]
  },
  {
   "cell_type": "raw",
   "id": "033b1be4",
   "metadata": {},
   "source": [
    "Use the filter() function to extract only even numbers from a list."
   ]
  },
  {
   "cell_type": "code",
   "execution_count": 5,
   "id": "8716b707",
   "metadata": {},
   "outputs": [
    {
     "name": "stdout",
     "output_type": "stream",
     "text": [
      "[2, 4, 6]\n"
     ]
    }
   ],
   "source": [
    "numbers = [1, 2, 3, 4, 5, 6]\n",
    "\n",
    "even_numbers = list(filter(lambda x: x % 2 == 0, numbers))\n",
    "\n",
    "print(even_numbers)\n"
   ]
  },
  {
   "cell_type": "markdown",
   "id": "f2270173",
   "metadata": {},
   "source": [
    "Explain the purpose of the else block in a try-except-else construct."
   ]
  },
  {
   "cell_type": "code",
   "execution_count": null,
   "id": "c83d36e9",
   "metadata": {},
   "outputs": [],
   "source": [
    "The else block in a try-except-else construct in Python serves a specific purpose: it executes only if the try block completes without raising any exceptions."
   ]
  },
  {
   "cell_type": "raw",
   "id": "d72612b0",
   "metadata": {},
   "source": [
    "Write a try-except block to handle division by zero."
   ]
  },
  {
   "cell_type": "code",
   "execution_count": 8,
   "id": "887af7c3",
   "metadata": {},
   "outputs": [
    {
     "name": "stdin",
     "output_type": "stream",
     "text": [
      "Enter numerator:  2\n",
      "Enter denominator:  0\n"
     ]
    },
    {
     "name": "stdout",
     "output_type": "stream",
     "text": [
      "Error: Cannot divide by zero.\n"
     ]
    }
   ],
   "source": [
    "try:\n",
    "    numerator = int(input(\"Enter numerator: \"))\n",
    "    denominator = int(input(\"Enter denominator: \"))\n",
    "    result = numerator / denominator\n",
    "    print(\"Result:\", result)\n",
    "except ZeroDivisionError:\n",
    "    print(\"Error: Cannot divide by zero.\")"
   ]
  },
  {
   "cell_type": "raw",
   "id": "f13a480f",
   "metadata": {},
   "source": [
    "What is the output of this lambda function? print((lambda x, y: x+y)(5, 3))"
   ]
  },
  {
   "cell_type": "code",
   "execution_count": null,
   "id": "93c08075",
   "metadata": {},
   "outputs": [],
   "source": [
    "8"
   ]
  },
  {
   "cell_type": "raw",
   "id": "bdddf4c4",
   "metadata": {},
   "source": [
    "Define a class named Dog with properties name and breed. Add a method bark()."
   ]
  },
  {
   "cell_type": "code",
   "execution_count": 9,
   "id": "1ebda62c",
   "metadata": {},
   "outputs": [
    {
     "name": "stdout",
     "output_type": "stream",
     "text": [
      "My dog's name is Buddy and breed is Golden Retriever.\n",
      "Buddy says: Woof!\n"
     ]
    }
   ],
   "source": [
    "class Dog:\n",
    "    def __init__(self, name, breed):\n",
    "        self.name = name\n",
    "        self.breed = breed\n",
    "\n",
    "    def bark(self):\n",
    "        print(f\"{self.name} says: Woof!\")\n",
    "\n",
    "my_dog = Dog(\"Buddy\", \"Golden Retriever\")\n",
    "print(f\"My dog's name is {my_dog.name} and breed is {my_dog.breed}.\")\n",
    "my_dog.bark()\n"
   ]
  },
  {
   "cell_type": "raw",
   "id": "9223ccfa",
   "metadata": {},
   "source": [
    "Create two objects of the Dog class and call their methods."
   ]
  },
  {
   "cell_type": "code",
   "execution_count": 10,
   "id": "7f66b4ed",
   "metadata": {},
   "outputs": [
    {
     "name": "stdout",
     "output_type": "stream",
     "text": [
      "Max is a Labrador.\n",
      "Max says: Woof!\n",
      "Bella is a Beagle.\n",
      "Bella says: Woof!\n"
     ]
    }
   ],
   "source": [
    "class Dog:\n",
    "    def __init__(self, name, breed):\n",
    "        self.name = name\n",
    "        self.breed = breed\n",
    "\n",
    "    def bark(self):\n",
    "        print(f\"{self.name} says: Woof!\")\n",
    "\n",
    "dog1 = Dog(\"Max\", \"Labrador\")\n",
    "dog2 = Dog(\"Bella\", \"Beagle\")\n",
    "\n",
    "\n",
    "print(f\"{dog1.name} is a {dog1.breed}.\")\n",
    "dog1.bark()\n",
    "\n",
    "print(f\"{dog2.name} is a {dog2.breed}.\")\n",
    "dog2.bark()\n"
   ]
  },
  {
   "cell_type": "raw",
   "id": "46358e90",
   "metadata": {},
   "source": [
    "What is the difference between class variables and instance variables?"
   ]
  },
  {
   "cell_type": "code",
   "execution_count": null,
   "id": "ef9ce8a8",
   "metadata": {},
   "outputs": [],
   "source": [
    "Class variables are shared by all objects of a class; instance variables are unique to each object."
   ]
  },
  {
   "cell_type": "raw",
   "id": "c3238a89",
   "metadata": {},
   "source": [
    "What will this print: print(\"apple\" if 5 > 3 else \"banana\")?"
   ]
  },
  {
   "cell_type": "code",
   "execution_count": 11,
   "id": "2e5cfd9a",
   "metadata": {},
   "outputs": [
    {
     "name": "stdout",
     "output_type": "stream",
     "text": [
      "apple\n"
     ]
    }
   ],
   "source": [
    "print(\"apple\" if 5 > 3 else \"banana\")\n"
   ]
  },
  {
   "cell_type": "raw",
   "id": "a520dafc",
   "metadata": {},
   "source": [
    "Write a function that accepts a list and returns the list of squares using list comprehension."
   ]
  },
  {
   "cell_type": "code",
   "execution_count": 12,
   "id": "0a6bc8c5",
   "metadata": {},
   "outputs": [
    {
     "name": "stdout",
     "output_type": "stream",
     "text": [
      "List of squares: [1, 4, 9, 16, 25]\n"
     ]
    }
   ],
   "source": [
    "def get_squares(numbers):\n",
    "    return [x ** 2 for x in numbers]\n",
    "\n",
    "numbers = [1, 2, 3, 4, 5]\n",
    "squares = get_squares(numbers)\n",
    "print(\"List of squares:\", squares)\n"
   ]
  },
  {
   "cell_type": "raw",
   "id": "56654a24",
   "metadata": {},
   "source": [
    "Explain what map() and filter() return when executed."
   ]
  },
  {
   "cell_type": "code",
   "execution_count": null,
   "id": "04642561",
   "metadata": {},
   "outputs": [],
   "source": [
    "map(): It returns an iterator that applies a given function to each item in the iterable. We need to convert it to a list (or other collection) to view the results."
   ]
  },
  {
   "cell_type": "code",
   "execution_count": null,
   "id": "5c3ec24b",
   "metadata": {},
   "outputs": [],
   "source": [
    "filter(): It returns an iterator that contains only the items for which the given function returns True"
   ]
  },
  {
   "cell_type": "markdown",
   "id": "d1b7d7c8",
   "metadata": {},
   "source": [
    "### Numpy"
   ]
  },
  {
   "cell_type": "raw",
   "id": "d18477a9",
   "metadata": {},
   "source": [
    "Create a 3x3 matrix using np.random.randint(0, 10, (3, 3))."
   ]
  },
  {
   "cell_type": "code",
   "execution_count": 13,
   "id": "a0324c7e",
   "metadata": {},
   "outputs": [
    {
     "name": "stdout",
     "output_type": "stream",
     "text": [
      "[[9 1 6]\n",
      " [1 8 0]\n",
      " [4 6 1]]\n"
     ]
    }
   ],
   "source": [
    "import numpy as np\n",
    "\n",
    "matrix = np.random.randint(0, 10, (3, 3))\n",
    "print(matrix)"
   ]
  },
  {
   "cell_type": "raw",
   "id": "68d9a258",
   "metadata": {},
   "source": [
    "Slice the above matrix to extract the first two rows."
   ]
  },
  {
   "cell_type": "code",
   "execution_count": 14,
   "id": "08081bab",
   "metadata": {},
   "outputs": [
    {
     "name": "stdout",
     "output_type": "stream",
     "text": [
      "[[9 1 6]\n",
      " [1 8 0]]\n"
     ]
    }
   ],
   "source": [
    "first_two_rows = matrix[:2, :]\n",
    "print(first_two_rows)"
   ]
  },
  {
   "cell_type": "markdown",
   "id": "0030743a",
   "metadata": {},
   "source": [
    "Combine two 3x3 matrices using np.concatenate along axis 0 and axis 1."
   ]
  },
  {
   "cell_type": "code",
   "execution_count": 15,
   "id": "9bbfecf6",
   "metadata": {},
   "outputs": [
    {
     "name": "stdout",
     "output_type": "stream",
     "text": [
      "First Matrix:\n",
      " [[9 1 6]\n",
      " [1 8 0]\n",
      " [4 6 1]]\n",
      "\n",
      "Second Matrix:\n",
      " [[9 2 3]\n",
      " [3 0 1]\n",
      " [2 1 3]]\n",
      "\n",
      "Combined along axis 0:\n",
      " [[9 1 6]\n",
      " [1 8 0]\n",
      " [4 6 1]\n",
      " [9 2 3]\n",
      " [3 0 1]\n",
      " [2 1 3]]\n",
      "\n",
      "Combined along axis 1:\n",
      " [[9 1 6 9 2 3]\n",
      " [1 8 0 3 0 1]\n",
      " [4 6 1 2 1 3]]\n"
     ]
    }
   ],
   "source": [
    "matrix2 = np.random.randint(0, 10, (3, 3))\n",
    "print(\"First Matrix:\\n\", matrix)\n",
    "print(\"\\nSecond Matrix:\\n\", matrix2)\n",
    "\n",
    "matrix_combined_axis0 = np.concatenate((matrix, matrix2), axis=0)\n",
    "print(\"\\nCombined along axis 0:\\n\", matrix_combined_axis0)\n",
    "\n",
    "matrix_combined_axis1 = np.concatenate((matrix, matrix2), axis=1)\n",
    "print(\"\\nCombined along axis 1:\\n\", matrix_combined_axis1)"
   ]
  },
  {
   "cell_type": "raw",
   "id": "2db85140",
   "metadata": {},
   "source": [
    "Perform element-wise addition, subtraction, and multiplication of two matrices."
   ]
  },
  {
   "cell_type": "code",
   "execution_count": 16,
   "id": "6f3b90e9",
   "metadata": {},
   "outputs": [
    {
     "name": "stdout",
     "output_type": "stream",
     "text": [
      "\n",
      "Element-wise Addition:\n",
      " [[18  3  9]\n",
      " [ 4  8  1]\n",
      " [ 6  7  4]]\n",
      "\n",
      "Element-wise Subtraction:\n",
      " [[ 0 -1  3]\n",
      " [-2  8 -1]\n",
      " [ 2  5 -2]]\n",
      "\n",
      "Element-wise Multiplication:\n",
      " [[81  2 18]\n",
      " [ 3  0  0]\n",
      " [ 8  6  3]]\n"
     ]
    }
   ],
   "source": [
    "matrix_added = matrix + matrix2\n",
    "print(\"\\nElement-wise Addition:\\n\", matrix_added)\n",
    "\n",
    "matrix_subtracted = matrix - matrix2\n",
    "print(\"\\nElement-wise Subtraction:\\n\", matrix_subtracted)\n",
    "\n",
    "matrix_multiplied = matrix * matrix2\n",
    "print(\"\\nElement-wise Multiplication:\\n\", matrix_multiplied)"
   ]
  },
  {
   "cell_type": "raw",
   "id": "5acf9813",
   "metadata": {},
   "source": [
    "Demonstrate broadcasting by adding a 1D array to a 2D array."
   ]
  },
  {
   "cell_type": "code",
   "execution_count": 17,
   "id": "97985e99",
   "metadata": {},
   "outputs": [
    {
     "name": "stdout",
     "output_type": "stream",
     "text": [
      "1D Array:\n",
      " [10 20 30]\n",
      "\n",
      "Original 2D Matrix:\n",
      " [[9 1 6]\n",
      " [1 8 0]\n",
      " [4 6 1]]\n",
      "\n",
      "2D Matrix after Broadcasting Addition:\n",
      " [[19 21 36]\n",
      " [11 28 30]\n",
      " [14 26 31]]\n"
     ]
    }
   ],
   "source": [
    "array_1d = np.array([10, 20, 30])\n",
    "print(\"1D Array:\\n\", array_1d)\n",
    "print(\"\\nOriginal 2D Matrix:\\n\", matrix)\n",
    "\n",
    "matrix_broadcasted = matrix + array_1d\n",
    "print(\"\\n2D Matrix after Broadcasting Addition:\\n\", matrix_broadcasted)"
   ]
  },
  {
   "cell_type": "raw",
   "id": "d4a90b42",
   "metadata": {},
   "source": [
    "Use np.clip to limit values in a matrix to a minimum of 2 and maximum of 8."
   ]
  },
  {
   "cell_type": "code",
   "execution_count": 18,
   "id": "6d56ccb1",
   "metadata": {},
   "outputs": [
    {
     "name": "stdout",
     "output_type": "stream",
     "text": [
      "Original Matrix:\n",
      " [[9 1 6]\n",
      " [1 8 0]\n",
      " [4 6 1]]\n",
      "\n",
      "Clipped Matrix (values between 2 and 8):\n",
      " [[8 2 6]\n",
      " [2 8 2]\n",
      " [4 6 2]]\n"
     ]
    }
   ],
   "source": [
    "print(\"Original Matrix:\\n\", matrix)\n",
    "\n",
    "matrix_clipped = np.clip(matrix, 2, 8)\n",
    "print(\"\\nClipped Matrix (values between 2 and 8):\\n\", matrix_clipped)"
   ]
  },
  {
   "cell_type": "raw",
   "id": "4a1ae5f5",
   "metadata": {},
   "source": [
    "Use np.ceil on an array of floating-point numbers [1.2, 2.5, 3.8]."
   ]
  },
  {
   "cell_type": "code",
   "execution_count": 19,
   "id": "e94a509e",
   "metadata": {},
   "outputs": [
    {
     "name": "stdout",
     "output_type": "stream",
     "text": [
      "Original Floating-Point Array:\n",
      " [1.2 2.5 3.8]\n",
      "\n",
      "Array after applying np.ceil:\n",
      " [2. 3. 4.]\n"
     ]
    }
   ],
   "source": [
    "float_array = np.array([1.2, 2.5, 3.8])\n",
    "print(\"Original Floating-Point Array:\\n\", float_array)\n",
    "\n",
    "ceil_array = np.ceil(float_array)\n",
    "print(\"\\nArray after applying np.ceil:\\n\", ceil_array)"
   ]
  },
  {
   "cell_type": "raw",
   "id": "ec39504d",
   "metadata": {},
   "source": [
    "Use np.where to replace all elements greater than 5 with 100 in a given array."
   ]
  },
  {
   "cell_type": "code",
   "execution_count": 20,
   "id": "61df0ab6",
   "metadata": {},
   "outputs": [
    {
     "name": "stdout",
     "output_type": "stream",
     "text": [
      "Original Array:\n",
      " [1 6 3 8 2 9 4 7 5]\n",
      "\n",
      "Modified Array (elements > 5 replaced with 100):\n",
      " [  1 100   3 100   2 100   4 100   5]\n"
     ]
    }
   ],
   "source": [
    "given_array = np.array([1, 6, 3, 8, 2, 9, 4, 7, 5])\n",
    "print(\"Original Array:\\n\", given_array)\n",
    "\n",
    "modified_array = np.where(given_array > 5, 100, given_array)\n",
    "print(\"\\nModified Array (elements > 5 replaced with 100):\\n\", modified_array)"
   ]
  },
  {
   "cell_type": "raw",
   "id": "1d797f53",
   "metadata": {},
   "source": [
    "Create two 2x2 matrices and compute their dot product."
   ]
  },
  {
   "cell_type": "code",
   "execution_count": 21,
   "id": "987a6a84",
   "metadata": {},
   "outputs": [
    {
     "name": "stdout",
     "output_type": "stream",
     "text": [
      "Matrix A:\n",
      " [[1 2]\n",
      " [3 4]]\n",
      "\n",
      "Matrix B:\n",
      " [[5 6]\n",
      " [7 8]]\n",
      "\n",
      "Dot Product of Matrix A and Matrix B:\n",
      " [[19 22]\n",
      " [43 50]]\n"
     ]
    }
   ],
   "source": [
    "matrix_a = np.array([[1, 2],\n",
    "                     [3, 4]])\n",
    "print(\"Matrix A:\\n\", matrix_a)\n",
    "\n",
    "matrix_b = np.array([[5, 6],\n",
    "                     [7, 8]])\n",
    "print(\"\\nMatrix B:\\n\", matrix_b)\n",
    "\n",
    "dot_product = np.dot(matrix_a, matrix_b)\n",
    "print(\"\\nDot Product of Matrix A and Matrix B:\\n\", dot_product)"
   ]
  },
  {
   "cell_type": "raw",
   "id": "8b1747c5",
   "metadata": {},
   "source": [
    "What is the difference between np.array([1, 2, 3]) and np.array([[1, 2, 3]])?"
   ]
  },
  {
   "cell_type": "code",
   "execution_count": null,
   "id": "101e2e98",
   "metadata": {},
   "outputs": [],
   "source": [
    "np.array([1, 2, 3]) is a 1D array (a single row of numbers), with a shape of (3,).\n",
    "np.array([[1, 2, 3]]) is a 2D array (a matrix with one row and three columns), with a shape of (1, 3)."
   ]
  },
  {
   "cell_type": "raw",
   "id": "f99a5cea",
   "metadata": {},
   "source": [
    "All the Best \n",
    "*Submit Before 10 PM* "
   ]
  },
  {
   "cell_type": "code",
   "execution_count": null,
   "id": "b1389a7c",
   "metadata": {},
   "outputs": [],
   "source": []
  }
 ],
 "metadata": {
  "kernelspec": {
   "display_name": "Python 3 (ipykernel)",
   "language": "python",
   "name": "python3"
  },
  "language_info": {
   "codemirror_mode": {
    "name": "ipython",
    "version": 3
   },
   "file_extension": ".py",
   "mimetype": "text/x-python",
   "name": "python",
   "nbconvert_exporter": "python",
   "pygments_lexer": "ipython3",
   "version": "3.11.2"
  }
 },
 "nbformat": 4,
 "nbformat_minor": 5
}
